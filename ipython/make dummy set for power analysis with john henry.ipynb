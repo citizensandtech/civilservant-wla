{
 "cells": [
  {
   "cell_type": "markdown",
   "metadata": {},
   "source": [
    "# Goal\n",
    "create a data set for tutorial with john henry for us to do power analysis. it doesn't matter what the data is as long as it hasthe right shape.\n",
    "the rows should like:\n",
    "1. 1 row represents one user who's participated in wla at some point\n",
    "1. Latest year participated\n",
    "1. How many images the contributed latest year\n",
    "1. list of images they contributed\n",
    "1. How many edits they made during that year?\n",
    "1. How many other images they contributed that year?\n",
    "1. Image-view-count in that year (for all WLA images)?\n",
    "1. \\[nice to have\\] image view count of their most contributed image\n",
    "1. their user-language preference on commons\n",
    "\n",
    "\n",
    "## Pipeline steps\n",
    "1. get images and actors from commons categories, sql\n",
    "1. generate mediacounts per day, need to multiprocess/redis\n",
    "1. aggregate mediacounts to year,\n",
    "1. join image-year and actor\n",
    "2. aggregate on actor,\n",
    "1. add actor level columns"
   ]
  },
  {
   "cell_type": "code",
   "execution_count": 17,
   "metadata": {},
   "outputs": [],
   "source": [
    "import pandas as pd\n",
    "import os, json\n",
    "import numpy as np"
   ]
  },
  {
   "cell_type": "code",
   "execution_count": 127,
   "metadata": {},
   "outputs": [],
   "source": [
    "project_dir = '/data/project/wla/'\n",
    "share_dir = '/home/paprika/workspace/civilservant-wla-analysis'"
   ]
  },
  {
   "cell_type": "code",
   "execution_count": 3,
   "metadata": {},
   "outputs": [],
   "source": [
    "media_counts_history_f = os.path.join(project_dir, 'pre-pipeline-2018-analysis', 'wla-mediacounts-by-day-2015-2018.csv')"
   ]
  },
  {
   "cell_type": "code",
   "execution_count": 4,
   "metadata": {},
   "outputs": [],
   "source": [
    "media_counts_f = os.path.join(project_dir, 'mediacounts-output','wla_mediacounts_2015.csv')\n",
    "usecols = ['filename','tsv_name','total_transfers']"
   ]
  },
  {
   "cell_type": "code",
   "execution_count": 5,
   "metadata": {},
   "outputs": [],
   "source": [
    "hist = pd.read_csv(media_counts_history_f, usecols=['filename_unquoted','date','total_transfers'], parse_dates=['date'])"
   ]
  },
  {
   "cell_type": "code",
   "execution_count": 6,
   "metadata": {},
   "outputs": [],
   "source": [
    "hist=hist.rename(columns={'filename_unquoted':'img_name'})"
   ]
  },
  {
   "cell_type": "code",
   "execution_count": 7,
   "metadata": {},
   "outputs": [
    {
     "data": {
      "text/html": [
       "<div>\n",
       "<style scoped>\n",
       "    .dataframe tbody tr th:only-of-type {\n",
       "        vertical-align: middle;\n",
       "    }\n",
       "\n",
       "    .dataframe tbody tr th {\n",
       "        vertical-align: top;\n",
       "    }\n",
       "\n",
       "    .dataframe thead th {\n",
       "        text-align: right;\n",
       "    }\n",
       "</style>\n",
       "<table border=\"1\" class=\"dataframe\">\n",
       "  <thead>\n",
       "    <tr style=\"text-align: right;\">\n",
       "      <th></th>\n",
       "      <th>img_name</th>\n",
       "      <th>date</th>\n",
       "      <th>total_transfers</th>\n",
       "    </tr>\n",
       "  </thead>\n",
       "  <tbody>\n",
       "    <tr>\n",
       "      <th>0</th>\n",
       "      <td>Products.jpg</td>\n",
       "      <td>2015-01-01</td>\n",
       "      <td>1</td>\n",
       "    </tr>\n",
       "    <tr>\n",
       "      <th>1</th>\n",
       "      <td>Dance.png</td>\n",
       "      <td>2015-01-01</td>\n",
       "      <td>1</td>\n",
       "    </tr>\n",
       "    <tr>\n",
       "      <th>2</th>\n",
       "      <td>الفريق.jpg</td>\n",
       "      <td>2015-01-01</td>\n",
       "      <td>229</td>\n",
       "    </tr>\n",
       "    <tr>\n",
       "      <th>3</th>\n",
       "      <td>خبز.JPG</td>\n",
       "      <td>2015-01-01</td>\n",
       "      <td>206</td>\n",
       "    </tr>\n",
       "    <tr>\n",
       "      <th>4</th>\n",
       "      <td>Her.jpg</td>\n",
       "      <td>2015-01-01</td>\n",
       "      <td>53</td>\n",
       "    </tr>\n",
       "  </tbody>\n",
       "</table>\n",
       "</div>"
      ],
      "text/plain": [
       "       img_name       date  total_transfers\n",
       "0  Products.jpg 2015-01-01                1\n",
       "1     Dance.png 2015-01-01                1\n",
       "2    الفريق.jpg 2015-01-01              229\n",
       "3       خبز.JPG 2015-01-01              206\n",
       "4       Her.jpg 2015-01-01               53"
      ]
     },
     "execution_count": 7,
     "metadata": {},
     "output_type": "execute_result"
    }
   ],
   "source": [
    "hist.head()"
   ]
  },
  {
   "cell_type": "code",
   "execution_count": 8,
   "metadata": {},
   "outputs": [
    {
     "data": {
      "text/plain": [
       "(16265025, 3)"
      ]
     },
     "execution_count": 8,
     "metadata": {},
     "output_type": "execute_result"
    }
   ],
   "source": [
    "hist.shape"
   ]
  },
  {
   "cell_type": "code",
   "execution_count": 9,
   "metadata": {},
   "outputs": [],
   "source": [
    "hist['year'] = hist['date'].apply(lambda d: d.year)"
   ]
  },
  {
   "cell_type": "code",
   "execution_count": 10,
   "metadata": {},
   "outputs": [
    {
     "data": {
      "text/plain": [
       "2018    6613716\n",
       "2017    4552378\n",
       "2016    2810379\n",
       "2015    1494413\n",
       "2019     794139\n",
       "Name: year, dtype: int64"
      ]
     },
     "execution_count": 10,
     "metadata": {},
     "output_type": "execute_result"
    }
   ],
   "source": [
    "hist['year'].value_counts()"
   ]
  },
  {
   "cell_type": "code",
   "execution_count": 11,
   "metadata": {},
   "outputs": [],
   "source": [
    "pre = hist[hist['year'] <=  2016]\n",
    "post = hist[hist['year'] == 2017]"
   ]
  },
  {
   "cell_type": "code",
   "execution_count": 37,
   "metadata": {},
   "outputs": [],
   "source": [
    "img_aggregations = {'total_transfers':sum, 'date':len,}\n",
    "\n",
    "pre_i = pre.groupby('img_name').agg(img_aggregations).reset_index()\n",
    "post_i = post.groupby('img_name').agg(img_aggregations).reset_index()"
   ]
  },
  {
   "cell_type": "code",
   "execution_count": 38,
   "metadata": {},
   "outputs": [],
   "source": [
    "user_filename_f = os.path.join(project_dir,'joining-relations','actor_images_years.csv')\n",
    "user_filename = pd.read_csv(user_filename_f, index_col=0)"
   ]
  },
  {
   "cell_type": "code",
   "execution_count": 39,
   "metadata": {},
   "outputs": [],
   "source": [
    "user_filename_pre = user_filename[user_filename['year']<=2016]\n",
    "user_filename_post = user_filename[user_filename['year']==2017]"
   ]
  },
  {
   "cell_type": "code",
   "execution_count": 40,
   "metadata": {},
   "outputs": [
    {
     "data": {
      "text/plain": [
       "2017"
      ]
     },
     "execution_count": 40,
     "metadata": {},
     "output_type": "execute_result"
    }
   ],
   "source": [
    "user_filename_post['year'].max()"
   ]
  },
  {
   "cell_type": "code",
   "execution_count": 41,
   "metadata": {},
   "outputs": [],
   "source": [
    "pre_user = pre_i.merge(user_filename_pre, on='img_name', how='inner')\n",
    "post_user = post_i.merge(user_filename_post, on='img_name', how='inner')"
   ]
  },
  {
   "cell_type": "code",
   "execution_count": 42,
   "metadata": {},
   "outputs": [
    {
     "data": {
      "text/plain": [
       "((12877, 5), (16674, 5))"
      ]
     },
     "execution_count": 42,
     "metadata": {},
     "output_type": "execute_result"
    }
   ],
   "source": [
    "pre_user.shape, post_user.shape"
   ]
  },
  {
   "cell_type": "code",
   "execution_count": 43,
   "metadata": {},
   "outputs": [
    {
     "data": {
      "text/html": [
       "<div>\n",
       "<style scoped>\n",
       "    .dataframe tbody tr th:only-of-type {\n",
       "        vertical-align: middle;\n",
       "    }\n",
       "\n",
       "    .dataframe tbody tr th {\n",
       "        vertical-align: top;\n",
       "    }\n",
       "\n",
       "    .dataframe thead th {\n",
       "        text-align: right;\n",
       "    }\n",
       "</style>\n",
       "<table border=\"1\" class=\"dataframe\">\n",
       "  <thead>\n",
       "    <tr style=\"text-align: right;\">\n",
       "      <th></th>\n",
       "      <th>img_name</th>\n",
       "      <th>total_transfers</th>\n",
       "      <th>date</th>\n",
       "      <th>img_actor</th>\n",
       "      <th>year</th>\n",
       "    </tr>\n",
       "  </thead>\n",
       "  <tbody>\n",
       "    <tr>\n",
       "      <th>0</th>\n",
       "      <td>--_Africa_standing.jpg</td>\n",
       "      <td>10067</td>\n",
       "      <td>441</td>\n",
       "      <td>5389266</td>\n",
       "      <td>2015</td>\n",
       "    </tr>\n",
       "    <tr>\n",
       "      <th>1</th>\n",
       "      <td>--ewinosa.jpg</td>\n",
       "      <td>9930</td>\n",
       "      <td>437</td>\n",
       "      <td>5389266</td>\n",
       "      <td>2015</td>\n",
       "    </tr>\n",
       "  </tbody>\n",
       "</table>\n",
       "</div>"
      ],
      "text/plain": [
       "                 img_name  total_transfers  date  img_actor  year\n",
       "0  --_Africa_standing.jpg            10067   441    5389266  2015\n",
       "1           --ewinosa.jpg             9930   437    5389266  2015"
      ]
     },
     "execution_count": 43,
     "metadata": {},
     "output_type": "execute_result"
    }
   ],
   "source": [
    "pre_user.head(2)"
   ]
  },
  {
   "cell_type": "code",
   "execution_count": 90,
   "metadata": {},
   "outputs": [
    {
     "data": {
      "text/plain": [
       "{'img_name': 'images_contributed', 'year': 'num_years_competed'}"
      ]
     },
     "execution_count": 90,
     "metadata": {},
     "output_type": "execute_result"
    }
   ],
   "source": [
    "user_agg_rename"
   ]
  },
  {
   "cell_type": "code",
   "execution_count": 115,
   "metadata": {},
   "outputs": [],
   "source": [
    "# the reason for the year subsetting is that year is the year of wla competition\n",
    "# remember pre reperesents all the image views that were 2016 and earlier\n",
    "\n",
    "def images_contributed(s):\n",
    "    return len(set(s))\n",
    "\n",
    "def years_competed(s):\n",
    "    return len(set(s))\n",
    "\n",
    "def total_transfers(s):\n",
    "    return sum(s)\n",
    "\n",
    "def latest_year_competed(s):\n",
    "    return max(s)\n",
    "\n",
    "user_aggregations = {'total_transfers':total_transfers,\n",
    "                     'img_name':images_contributed,\n",
    "                    'year':(years_competed,\n",
    "                            latest_year_competed),\n",
    "                    }\n",
    "user_agg_rename = {'img_name': 'images_contributed', 'year': 'num_years_competed','':'img_actor'}\n",
    "\n",
    "user_pre = pre_user.groupby('img_actor').agg(user_aggregations).reset_index()\n",
    "user_pre.columns = user_pre.columns.get_level_values(1)\n",
    "user_pre = user_pre.rename(columns=user_agg_rename)\n",
    "\n",
    "user_post = post_user.groupby('img_actor').agg(user_aggregations).reset_index()\n",
    "user_post.columns = user_post.columns.get_level_values(1)\n",
    "user_post = user_post.rename(columns=user_agg_rename)"
   ]
  },
  {
   "cell_type": "code",
   "execution_count": 116,
   "metadata": {},
   "outputs": [
    {
     "data": {
      "text/plain": [
       "((1736, 5), (2349, 5))"
      ]
     },
     "execution_count": 116,
     "metadata": {},
     "output_type": "execute_result"
    }
   ],
   "source": [
    "user_pre.shape, user_post.shape"
   ]
  },
  {
   "cell_type": "code",
   "execution_count": 117,
   "metadata": {},
   "outputs": [
    {
     "data": {
      "text/html": [
       "<div>\n",
       "<style scoped>\n",
       "    .dataframe tbody tr th:only-of-type {\n",
       "        vertical-align: middle;\n",
       "    }\n",
       "\n",
       "    .dataframe tbody tr th {\n",
       "        vertical-align: top;\n",
       "    }\n",
       "\n",
       "    .dataframe thead th {\n",
       "        text-align: right;\n",
       "    }\n",
       "</style>\n",
       "<table border=\"1\" class=\"dataframe\">\n",
       "  <thead>\n",
       "    <tr style=\"text-align: right;\">\n",
       "      <th></th>\n",
       "      <th>img_actor</th>\n",
       "      <th>total_transfers</th>\n",
       "      <th>images_contributed</th>\n",
       "      <th>years_competed</th>\n",
       "      <th>latest_year_competed</th>\n",
       "    </tr>\n",
       "  </thead>\n",
       "  <tbody>\n",
       "    <tr>\n",
       "      <th>0</th>\n",
       "      <td>5</td>\n",
       "      <td>7359</td>\n",
       "      <td>22</td>\n",
       "      <td>1</td>\n",
       "      <td>2017</td>\n",
       "    </tr>\n",
       "    <tr>\n",
       "      <th>1</th>\n",
       "      <td>13</td>\n",
       "      <td>17823</td>\n",
       "      <td>62</td>\n",
       "      <td>1</td>\n",
       "      <td>2017</td>\n",
       "    </tr>\n",
       "    <tr>\n",
       "      <th>2</th>\n",
       "      <td>30</td>\n",
       "      <td>29854</td>\n",
       "      <td>216</td>\n",
       "      <td>1</td>\n",
       "      <td>2017</td>\n",
       "    </tr>\n",
       "    <tr>\n",
       "      <th>3</th>\n",
       "      <td>86</td>\n",
       "      <td>11725</td>\n",
       "      <td>5</td>\n",
       "      <td>1</td>\n",
       "      <td>2017</td>\n",
       "    </tr>\n",
       "    <tr>\n",
       "      <th>4</th>\n",
       "      <td>89</td>\n",
       "      <td>177249</td>\n",
       "      <td>634</td>\n",
       "      <td>1</td>\n",
       "      <td>2017</td>\n",
       "    </tr>\n",
       "    <tr>\n",
       "      <th>5</th>\n",
       "      <td>134</td>\n",
       "      <td>249</td>\n",
       "      <td>1</td>\n",
       "      <td>1</td>\n",
       "      <td>2017</td>\n",
       "    </tr>\n",
       "    <tr>\n",
       "      <th>6</th>\n",
       "      <td>157</td>\n",
       "      <td>14150</td>\n",
       "      <td>2</td>\n",
       "      <td>1</td>\n",
       "      <td>2017</td>\n",
       "    </tr>\n",
       "    <tr>\n",
       "      <th>7</th>\n",
       "      <td>396</td>\n",
       "      <td>398</td>\n",
       "      <td>1</td>\n",
       "      <td>1</td>\n",
       "      <td>2017</td>\n",
       "    </tr>\n",
       "    <tr>\n",
       "      <th>8</th>\n",
       "      <td>402</td>\n",
       "      <td>93</td>\n",
       "      <td>1</td>\n",
       "      <td>1</td>\n",
       "      <td>2017</td>\n",
       "    </tr>\n",
       "    <tr>\n",
       "      <th>9</th>\n",
       "      <td>431</td>\n",
       "      <td>1142</td>\n",
       "      <td>13</td>\n",
       "      <td>1</td>\n",
       "      <td>2017</td>\n",
       "    </tr>\n",
       "  </tbody>\n",
       "</table>\n",
       "</div>"
      ],
      "text/plain": [
       "   img_actor  total_transfers  images_contributed  years_competed  \\\n",
       "0          5             7359                  22               1   \n",
       "1         13            17823                  62               1   \n",
       "2         30            29854                 216               1   \n",
       "3         86            11725                   5               1   \n",
       "4         89           177249                 634               1   \n",
       "5        134              249                   1               1   \n",
       "6        157            14150                   2               1   \n",
       "7        396              398                   1               1   \n",
       "8        402               93                   1               1   \n",
       "9        431             1142                  13               1   \n",
       "\n",
       "   latest_year_competed  \n",
       "0                  2017  \n",
       "1                  2017  \n",
       "2                  2017  \n",
       "3                  2017  \n",
       "4                  2017  \n",
       "5                  2017  \n",
       "6                  2017  \n",
       "7                  2017  \n",
       "8                  2017  \n",
       "9                  2017  "
      ]
     },
     "execution_count": 117,
     "metadata": {},
     "output_type": "execute_result"
    }
   ],
   "source": [
    "user_post.head(10)"
   ]
  },
  {
   "cell_type": "code",
   "execution_count": 118,
   "metadata": {},
   "outputs": [],
   "source": [
    "returning = user_pre.merge(user_post, on='img_actor', how='outer', suffixes=(\"_2016_and_earlier\", \"_2017\"))"
   ]
  },
  {
   "cell_type": "code",
   "execution_count": 119,
   "metadata": {},
   "outputs": [
    {
     "data": {
      "text/html": [
       "<div>\n",
       "<style scoped>\n",
       "    .dataframe tbody tr th:only-of-type {\n",
       "        vertical-align: middle;\n",
       "    }\n",
       "\n",
       "    .dataframe tbody tr th {\n",
       "        vertical-align: top;\n",
       "    }\n",
       "\n",
       "    .dataframe thead th {\n",
       "        text-align: right;\n",
       "    }\n",
       "</style>\n",
       "<table border=\"1\" class=\"dataframe\">\n",
       "  <thead>\n",
       "    <tr style=\"text-align: right;\">\n",
       "      <th></th>\n",
       "      <th>img_actor</th>\n",
       "      <th>total_transfers_2016_and_earlier</th>\n",
       "      <th>images_contributed_2016_and_earlier</th>\n",
       "      <th>years_competed_2016_and_earlier</th>\n",
       "      <th>latest_year_competed_2016_and_earlier</th>\n",
       "      <th>total_transfers_2017</th>\n",
       "      <th>images_contributed_2017</th>\n",
       "      <th>years_competed_2017</th>\n",
       "      <th>latest_year_competed_2017</th>\n",
       "    </tr>\n",
       "  </thead>\n",
       "  <tbody>\n",
       "    <tr>\n",
       "      <th>0</th>\n",
       "      <td>13</td>\n",
       "      <td>821116.0</td>\n",
       "      <td>120.0</td>\n",
       "      <td>3.0</td>\n",
       "      <td>2016.0</td>\n",
       "      <td>17823.0</td>\n",
       "      <td>62.0</td>\n",
       "      <td>1.0</td>\n",
       "      <td>2017.0</td>\n",
       "    </tr>\n",
       "    <tr>\n",
       "      <th>1</th>\n",
       "      <td>30</td>\n",
       "      <td>40707.0</td>\n",
       "      <td>17.0</td>\n",
       "      <td>2.0</td>\n",
       "      <td>2015.0</td>\n",
       "      <td>29854.0</td>\n",
       "      <td>216.0</td>\n",
       "      <td>1.0</td>\n",
       "      <td>2017.0</td>\n",
       "    </tr>\n",
       "    <tr>\n",
       "      <th>2</th>\n",
       "      <td>62</td>\n",
       "      <td>7284.0</td>\n",
       "      <td>1.0</td>\n",
       "      <td>1.0</td>\n",
       "      <td>2015.0</td>\n",
       "      <td>NaN</td>\n",
       "      <td>NaN</td>\n",
       "      <td>NaN</td>\n",
       "      <td>NaN</td>\n",
       "    </tr>\n",
       "    <tr>\n",
       "      <th>3</th>\n",
       "      <td>86</td>\n",
       "      <td>4503.0</td>\n",
       "      <td>1.0</td>\n",
       "      <td>1.0</td>\n",
       "      <td>2014.0</td>\n",
       "      <td>11725.0</td>\n",
       "      <td>5.0</td>\n",
       "      <td>1.0</td>\n",
       "      <td>2017.0</td>\n",
       "    </tr>\n",
       "    <tr>\n",
       "      <th>4</th>\n",
       "      <td>125</td>\n",
       "      <td>19740.0</td>\n",
       "      <td>3.0</td>\n",
       "      <td>1.0</td>\n",
       "      <td>2015.0</td>\n",
       "      <td>NaN</td>\n",
       "      <td>NaN</td>\n",
       "      <td>NaN</td>\n",
       "      <td>NaN</td>\n",
       "    </tr>\n",
       "    <tr>\n",
       "      <th>...</th>\n",
       "      <td>...</td>\n",
       "      <td>...</td>\n",
       "      <td>...</td>\n",
       "      <td>...</td>\n",
       "      <td>...</td>\n",
       "      <td>...</td>\n",
       "      <td>...</td>\n",
       "      <td>...</td>\n",
       "      <td>...</td>\n",
       "    </tr>\n",
       "    <tr>\n",
       "      <th>4018</th>\n",
       "      <td>6933779</td>\n",
       "      <td>NaN</td>\n",
       "      <td>NaN</td>\n",
       "      <td>NaN</td>\n",
       "      <td>NaN</td>\n",
       "      <td>5968.0</td>\n",
       "      <td>3.0</td>\n",
       "      <td>1.0</td>\n",
       "      <td>2017.0</td>\n",
       "    </tr>\n",
       "    <tr>\n",
       "      <th>4019</th>\n",
       "      <td>6934063</td>\n",
       "      <td>NaN</td>\n",
       "      <td>NaN</td>\n",
       "      <td>NaN</td>\n",
       "      <td>NaN</td>\n",
       "      <td>845.0</td>\n",
       "      <td>4.0</td>\n",
       "      <td>1.0</td>\n",
       "      <td>2017.0</td>\n",
       "    </tr>\n",
       "    <tr>\n",
       "      <th>4020</th>\n",
       "      <td>6934545</td>\n",
       "      <td>NaN</td>\n",
       "      <td>NaN</td>\n",
       "      <td>NaN</td>\n",
       "      <td>NaN</td>\n",
       "      <td>794.0</td>\n",
       "      <td>7.0</td>\n",
       "      <td>1.0</td>\n",
       "      <td>2017.0</td>\n",
       "    </tr>\n",
       "    <tr>\n",
       "      <th>4021</th>\n",
       "      <td>6935237</td>\n",
       "      <td>NaN</td>\n",
       "      <td>NaN</td>\n",
       "      <td>NaN</td>\n",
       "      <td>NaN</td>\n",
       "      <td>879.0</td>\n",
       "      <td>10.0</td>\n",
       "      <td>1.0</td>\n",
       "      <td>2017.0</td>\n",
       "    </tr>\n",
       "    <tr>\n",
       "      <th>4022</th>\n",
       "      <td>6938495</td>\n",
       "      <td>NaN</td>\n",
       "      <td>NaN</td>\n",
       "      <td>NaN</td>\n",
       "      <td>NaN</td>\n",
       "      <td>108.0</td>\n",
       "      <td>1.0</td>\n",
       "      <td>1.0</td>\n",
       "      <td>2017.0</td>\n",
       "    </tr>\n",
       "  </tbody>\n",
       "</table>\n",
       "<p>4023 rows × 9 columns</p>\n",
       "</div>"
      ],
      "text/plain": [
       "      img_actor  total_transfers_2016_and_earlier  \\\n",
       "0            13                          821116.0   \n",
       "1            30                           40707.0   \n",
       "2            62                            7284.0   \n",
       "3            86                            4503.0   \n",
       "4           125                           19740.0   \n",
       "...         ...                               ...   \n",
       "4018    6933779                               NaN   \n",
       "4019    6934063                               NaN   \n",
       "4020    6934545                               NaN   \n",
       "4021    6935237                               NaN   \n",
       "4022    6938495                               NaN   \n",
       "\n",
       "      images_contributed_2016_and_earlier  years_competed_2016_and_earlier  \\\n",
       "0                                   120.0                              3.0   \n",
       "1                                    17.0                              2.0   \n",
       "2                                     1.0                              1.0   \n",
       "3                                     1.0                              1.0   \n",
       "4                                     3.0                              1.0   \n",
       "...                                   ...                              ...   \n",
       "4018                                  NaN                              NaN   \n",
       "4019                                  NaN                              NaN   \n",
       "4020                                  NaN                              NaN   \n",
       "4021                                  NaN                              NaN   \n",
       "4022                                  NaN                              NaN   \n",
       "\n",
       "      latest_year_competed_2016_and_earlier  total_transfers_2017  \\\n",
       "0                                    2016.0               17823.0   \n",
       "1                                    2015.0               29854.0   \n",
       "2                                    2015.0                   NaN   \n",
       "3                                    2014.0               11725.0   \n",
       "4                                    2015.0                   NaN   \n",
       "...                                     ...                   ...   \n",
       "4018                                    NaN                5968.0   \n",
       "4019                                    NaN                 845.0   \n",
       "4020                                    NaN                 794.0   \n",
       "4021                                    NaN                 879.0   \n",
       "4022                                    NaN                 108.0   \n",
       "\n",
       "      images_contributed_2017  years_competed_2017  latest_year_competed_2017  \n",
       "0                        62.0                  1.0                     2017.0  \n",
       "1                       216.0                  1.0                     2017.0  \n",
       "2                         NaN                  NaN                        NaN  \n",
       "3                         5.0                  1.0                     2017.0  \n",
       "4                         NaN                  NaN                        NaN  \n",
       "...                       ...                  ...                        ...  \n",
       "4018                      3.0                  1.0                     2017.0  \n",
       "4019                      4.0                  1.0                     2017.0  \n",
       "4020                      7.0                  1.0                     2017.0  \n",
       "4021                     10.0                  1.0                     2017.0  \n",
       "4022                      1.0                  1.0                     2017.0  \n",
       "\n",
       "[4023 rows x 9 columns]"
      ]
     },
     "execution_count": 119,
     "metadata": {},
     "output_type": "execute_result"
    }
   ],
   "source": [
    "returning"
   ]
  },
  {
   "cell_type": "code",
   "execution_count": 120,
   "metadata": {},
   "outputs": [],
   "source": [
    "didnt_return = returning[(pd.notnull(returning['images_contributed_2016_and_earlier'])) &\n",
    "         (pd.isnull(returning['images_contributed_2017']))]"
   ]
  },
  {
   "cell_type": "code",
   "execution_count": 121,
   "metadata": {},
   "outputs": [],
   "source": [
    "first_time = returning[(pd.isnull(returning['images_contributed_2016_and_earlier'])) &\n",
    "         (pd.notnull(returning['images_contributed_2017']))]"
   ]
  },
  {
   "cell_type": "code",
   "execution_count": 122,
   "metadata": {},
   "outputs": [],
   "source": [
    "returned = returning[(pd.notnull(returning['images_contributed_2016_and_earlier'])) &\n",
    "         (pd.notnull(returning['images_contributed_2017']))]"
   ]
  },
  {
   "cell_type": "code",
   "execution_count": 123,
   "metadata": {},
   "outputs": [],
   "source": [
    "contributed_2016_and_earlier = returning[(pd.notnull(returning['images_contributed_2016_and_earlier']))]"
   ]
  },
  {
   "cell_type": "code",
   "execution_count": 124,
   "metadata": {},
   "outputs": [],
   "source": [
    "returning[\"didnt_return\"] = returning['images_contributed_2016_and_earlier'].notnull()  &  returning['images_contributed_2017'].isnull()\n",
    "returning[\"return\"] = returning['images_contributed_2016_and_earlier'].notnull()  &  returning['images_contributed_2017'].notnull()\n",
    "returning['first_time'] = returning['images_contributed_2016_and_earlier'].isnull() & \\\n",
    "         returning['images_contributed_2017'].notnull()"
   ]
  },
  {
   "cell_type": "code",
   "execution_count": 125,
   "metadata": {},
   "outputs": [
    {
     "data": {
      "text/html": [
       "<div>\n",
       "<style scoped>\n",
       "    .dataframe tbody tr th:only-of-type {\n",
       "        vertical-align: middle;\n",
       "    }\n",
       "\n",
       "    .dataframe tbody tr th {\n",
       "        vertical-align: top;\n",
       "    }\n",
       "\n",
       "    .dataframe thead th {\n",
       "        text-align: right;\n",
       "    }\n",
       "</style>\n",
       "<table border=\"1\" class=\"dataframe\">\n",
       "  <thead>\n",
       "    <tr style=\"text-align: right;\">\n",
       "      <th></th>\n",
       "      <th>img_actor</th>\n",
       "      <th>total_transfers_2016_and_earlier</th>\n",
       "      <th>images_contributed_2016_and_earlier</th>\n",
       "      <th>years_competed_2016_and_earlier</th>\n",
       "      <th>latest_year_competed_2016_and_earlier</th>\n",
       "      <th>total_transfers_2017</th>\n",
       "      <th>images_contributed_2017</th>\n",
       "      <th>years_competed_2017</th>\n",
       "      <th>latest_year_competed_2017</th>\n",
       "      <th>didnt_return</th>\n",
       "      <th>return</th>\n",
       "      <th>first_time</th>\n",
       "    </tr>\n",
       "  </thead>\n",
       "  <tbody>\n",
       "    <tr>\n",
       "      <th>0</th>\n",
       "      <td>13</td>\n",
       "      <td>821116.0</td>\n",
       "      <td>120.0</td>\n",
       "      <td>3.0</td>\n",
       "      <td>2016.0</td>\n",
       "      <td>17823.0</td>\n",
       "      <td>62.0</td>\n",
       "      <td>1.0</td>\n",
       "      <td>2017.0</td>\n",
       "      <td>False</td>\n",
       "      <td>True</td>\n",
       "      <td>False</td>\n",
       "    </tr>\n",
       "    <tr>\n",
       "      <th>1</th>\n",
       "      <td>30</td>\n",
       "      <td>40707.0</td>\n",
       "      <td>17.0</td>\n",
       "      <td>2.0</td>\n",
       "      <td>2015.0</td>\n",
       "      <td>29854.0</td>\n",
       "      <td>216.0</td>\n",
       "      <td>1.0</td>\n",
       "      <td>2017.0</td>\n",
       "      <td>False</td>\n",
       "      <td>True</td>\n",
       "      <td>False</td>\n",
       "    </tr>\n",
       "    <tr>\n",
       "      <th>2</th>\n",
       "      <td>62</td>\n",
       "      <td>7284.0</td>\n",
       "      <td>1.0</td>\n",
       "      <td>1.0</td>\n",
       "      <td>2015.0</td>\n",
       "      <td>NaN</td>\n",
       "      <td>NaN</td>\n",
       "      <td>NaN</td>\n",
       "      <td>NaN</td>\n",
       "      <td>True</td>\n",
       "      <td>False</td>\n",
       "      <td>False</td>\n",
       "    </tr>\n",
       "    <tr>\n",
       "      <th>3</th>\n",
       "      <td>86</td>\n",
       "      <td>4503.0</td>\n",
       "      <td>1.0</td>\n",
       "      <td>1.0</td>\n",
       "      <td>2014.0</td>\n",
       "      <td>11725.0</td>\n",
       "      <td>5.0</td>\n",
       "      <td>1.0</td>\n",
       "      <td>2017.0</td>\n",
       "      <td>False</td>\n",
       "      <td>True</td>\n",
       "      <td>False</td>\n",
       "    </tr>\n",
       "    <tr>\n",
       "      <th>4</th>\n",
       "      <td>125</td>\n",
       "      <td>19740.0</td>\n",
       "      <td>3.0</td>\n",
       "      <td>1.0</td>\n",
       "      <td>2015.0</td>\n",
       "      <td>NaN</td>\n",
       "      <td>NaN</td>\n",
       "      <td>NaN</td>\n",
       "      <td>NaN</td>\n",
       "      <td>True</td>\n",
       "      <td>False</td>\n",
       "      <td>False</td>\n",
       "    </tr>\n",
       "  </tbody>\n",
       "</table>\n",
       "</div>"
      ],
      "text/plain": [
       "   img_actor  total_transfers_2016_and_earlier  \\\n",
       "0         13                          821116.0   \n",
       "1         30                           40707.0   \n",
       "2         62                            7284.0   \n",
       "3         86                            4503.0   \n",
       "4        125                           19740.0   \n",
       "\n",
       "   images_contributed_2016_and_earlier  years_competed_2016_and_earlier  \\\n",
       "0                                120.0                              3.0   \n",
       "1                                 17.0                              2.0   \n",
       "2                                  1.0                              1.0   \n",
       "3                                  1.0                              1.0   \n",
       "4                                  3.0                              1.0   \n",
       "\n",
       "   latest_year_competed_2016_and_earlier  total_transfers_2017  \\\n",
       "0                                 2016.0               17823.0   \n",
       "1                                 2015.0               29854.0   \n",
       "2                                 2015.0                   NaN   \n",
       "3                                 2014.0               11725.0   \n",
       "4                                 2015.0                   NaN   \n",
       "\n",
       "   images_contributed_2017  years_competed_2017  latest_year_competed_2017  \\\n",
       "0                     62.0                  1.0                     2017.0   \n",
       "1                    216.0                  1.0                     2017.0   \n",
       "2                      NaN                  NaN                        NaN   \n",
       "3                      5.0                  1.0                     2017.0   \n",
       "4                      NaN                  NaN                        NaN   \n",
       "\n",
       "   didnt_return  return  first_time  \n",
       "0         False    True       False  \n",
       "1         False    True       False  \n",
       "2          True   False       False  \n",
       "3         False    True       False  \n",
       "4          True   False       False  "
      ]
     },
     "execution_count": 125,
     "metadata": {},
     "output_type": "execute_result"
    }
   ],
   "source": [
    "returning.head()"
   ]
  },
  {
   "cell_type": "code",
   "execution_count": 130,
   "metadata": {},
   "outputs": [],
   "source": [
    "out_f = os.path.join(project_dir, 'pre-pipeline-2018-analysis', 'power-analysis-2016-vs-2017.csv')\n",
    "share_f = os.path.join(share_dir, 'data', 'power-analysis-2016-vs-2017.csv')\n",
    "returning.to_csv(out_f, index=False)\n",
    "returning.to_csv(share_f, index=False)"
   ]
  },
  {
   "cell_type": "code",
   "execution_count": 138,
   "metadata": {},
   "outputs": [
    {
     "data": {
      "text/html": [
       "<div>\n",
       "<style scoped>\n",
       "    .dataframe tbody tr th:only-of-type {\n",
       "        vertical-align: middle;\n",
       "    }\n",
       "\n",
       "    .dataframe tbody tr th {\n",
       "        vertical-align: top;\n",
       "    }\n",
       "\n",
       "    .dataframe thead th {\n",
       "        text-align: right;\n",
       "    }\n",
       "</style>\n",
       "<table border=\"1\" class=\"dataframe\">\n",
       "  <thead>\n",
       "    <tr style=\"text-align: right;\">\n",
       "      <th></th>\n",
       "      <th>img_actor</th>\n",
       "    </tr>\n",
       "    <tr>\n",
       "      <th>year</th>\n",
       "      <th></th>\n",
       "    </tr>\n",
       "  </thead>\n",
       "  <tbody>\n",
       "    <tr>\n",
       "      <th>2014</th>\n",
       "      <td>845</td>\n",
       "    </tr>\n",
       "    <tr>\n",
       "      <th>2015</th>\n",
       "      <td>725</td>\n",
       "    </tr>\n",
       "    <tr>\n",
       "      <th>2016</th>\n",
       "      <td>827</td>\n",
       "    </tr>\n",
       "    <tr>\n",
       "      <th>2017</th>\n",
       "      <td>2440</td>\n",
       "    </tr>\n",
       "    <tr>\n",
       "      <th>2019</th>\n",
       "      <td>1299</td>\n",
       "    </tr>\n",
       "  </tbody>\n",
       "</table>\n",
       "</div>"
      ],
      "text/plain": [
       "      img_actor\n",
       "year           \n",
       "2014        845\n",
       "2015        725\n",
       "2016        827\n",
       "2017       2440\n",
       "2019       1299"
      ]
     },
     "execution_count": 138,
     "metadata": {},
     "output_type": "execute_result"
    }
   ],
   "source": [
    "user_filename.groupby(['year']).agg({'img_actor':lambda s: len(set(s))})"
   ]
  },
  {
   "cell_type": "code",
   "execution_count": 142,
   "metadata": {},
   "outputs": [
    {
     "data": {
      "text/plain": [
       "img_name    5890\n",
       "year        5890\n",
       "dtype: int64"
      ]
     },
     "execution_count": 142,
     "metadata": {},
     "output_type": "execute_result"
    }
   ],
   "source": [
    "#number of unique users\n",
    "user_filename.groupby('img_actor').agg(len).agg(len)"
   ]
  },
  {
   "cell_type": "code",
   "execution_count": 146,
   "metadata": {},
   "outputs": [
    {
     "data": {
      "text/plain": [
       "5890"
      ]
     },
     "execution_count": 146,
     "metadata": {},
     "output_type": "execute_result"
    }
   ],
   "source": [
    "len(set(user_filename['img_actor'].values))"
   ]
  },
  {
   "cell_type": "code",
   "execution_count": 110,
   "metadata": {},
   "outputs": [
    {
     "data": {
      "text/plain": [
       "((1674, 5), (2287, 5), (62, 5), (1736, 5))"
      ]
     },
     "execution_count": 110,
     "metadata": {},
     "output_type": "execute_result"
    }
   ],
   "source": [
    "didnt_return.shape, first_time.shape, returned.shape, contributed_2016_and_earlier.shape"
   ]
  },
  {
   "cell_type": "code",
   "execution_count": 41,
   "metadata": {},
   "outputs": [
    {
     "data": {
      "text/plain": [
       "2017"
      ]
     },
     "execution_count": 41,
     "metadata": {},
     "output_type": "execute_result"
    }
   ],
   "source": [
    "post[post['img_name']=='Traditional_Dress_sales.jpg']['year'].min()"
   ]
  },
  {
   "cell_type": "code",
   "execution_count": null,
   "metadata": {},
   "outputs": [],
   "source": [
    "user_pre"
   ]
  },
  {
   "cell_type": "code",
   "execution_count": 15,
   "metadata": {},
   "outputs": [],
   "source": [
    "media_counts = pd.read_csv(media_counts_f,usecols=usecols)"
   ]
  },
  {
   "cell_type": "code",
   "execution_count": 3,
   "metadata": {},
   "outputs": [
    {
     "data": {
      "text/plain": [
       "Index(['filename', 'total_transfers', 'tsv_name'], dtype='object')"
      ]
     },
     "execution_count": 3,
     "metadata": {},
     "output_type": "execute_result"
    }
   ],
   "source": [
    "media_counts.columns"
   ]
  },
  {
   "cell_type": "code",
   "execution_count": 4,
   "metadata": {},
   "outputs": [],
   "source": [
    "media_counts['img_name'] = media_counts['filename'].apply(lambda n: n.split('/')[-1])"
   ]
  },
  {
   "cell_type": "code",
   "execution_count": 5,
   "metadata": {},
   "outputs": [
    {
     "data": {
      "text/html": [
       "<div>\n",
       "<style scoped>\n",
       "    .dataframe tbody tr th:only-of-type {\n",
       "        vertical-align: middle;\n",
       "    }\n",
       "\n",
       "    .dataframe tbody tr th {\n",
       "        vertical-align: top;\n",
       "    }\n",
       "\n",
       "    .dataframe thead th {\n",
       "        text-align: right;\n",
       "    }\n",
       "</style>\n",
       "<table border=\"1\" class=\"dataframe\">\n",
       "  <thead>\n",
       "    <tr style=\"text-align: right;\">\n",
       "      <th></th>\n",
       "      <th>filename</th>\n",
       "      <th>total_transfers</th>\n",
       "      <th>tsv_name</th>\n",
       "      <th>img_name</th>\n",
       "    </tr>\n",
       "  </thead>\n",
       "  <tbody>\n",
       "    <tr>\n",
       "      <th>0</th>\n",
       "      <td>/wikibooks/bg/9/91/Products.jpg</td>\n",
       "      <td>2</td>\n",
       "      <td>mediacounts.2016-01-01.v00.tsv.bz2</td>\n",
       "      <td>Products.jpg</td>\n",
       "    </tr>\n",
       "    <tr>\n",
       "      <th>1</th>\n",
       "      <td>/wikipedia/ar/9/91/Products.jpg</td>\n",
       "      <td>1</td>\n",
       "      <td>mediacounts.2016-01-01.v00.tsv.bz2</td>\n",
       "      <td>Products.jpg</td>\n",
       "    </tr>\n",
       "    <tr>\n",
       "      <th>2</th>\n",
       "      <td>/wikipedia/ar/9/9b/Her.jpg</td>\n",
       "      <td>61</td>\n",
       "      <td>mediacounts.2016-01-01.v00.tsv.bz2</td>\n",
       "      <td>Her.jpg</td>\n",
       "    </tr>\n",
       "    <tr>\n",
       "      <th>3</th>\n",
       "      <td>/wikipedia/ar/d/d3/Om_ali.jpg</td>\n",
       "      <td>11</td>\n",
       "      <td>mediacounts.2016-01-01.v00.tsv.bz2</td>\n",
       "      <td>Om_ali.jpg</td>\n",
       "    </tr>\n",
       "    <tr>\n",
       "      <th>4</th>\n",
       "      <td>/wikipedia/bs/f/fc/Oasis.jpg</td>\n",
       "      <td>2</td>\n",
       "      <td>mediacounts.2016-01-01.v00.tsv.bz2</td>\n",
       "      <td>Oasis.jpg</td>\n",
       "    </tr>\n",
       "  </tbody>\n",
       "</table>\n",
       "</div>"
      ],
      "text/plain": [
       "                          filename  total_transfers  \\\n",
       "0  /wikibooks/bg/9/91/Products.jpg                2   \n",
       "1  /wikipedia/ar/9/91/Products.jpg                1   \n",
       "2       /wikipedia/ar/9/9b/Her.jpg               61   \n",
       "3    /wikipedia/ar/d/d3/Om_ali.jpg               11   \n",
       "4     /wikipedia/bs/f/fc/Oasis.jpg                2   \n",
       "\n",
       "                             tsv_name      img_name  \n",
       "0  mediacounts.2016-01-01.v00.tsv.bz2  Products.jpg  \n",
       "1  mediacounts.2016-01-01.v00.tsv.bz2  Products.jpg  \n",
       "2  mediacounts.2016-01-01.v00.tsv.bz2       Her.jpg  \n",
       "3  mediacounts.2016-01-01.v00.tsv.bz2    Om_ali.jpg  \n",
       "4  mediacounts.2016-01-01.v00.tsv.bz2     Oasis.jpg  "
      ]
     },
     "execution_count": 5,
     "metadata": {},
     "output_type": "execute_result"
    }
   ],
   "source": [
    "media_counts.head()"
   ]
  },
  {
   "cell_type": "code",
   "execution_count": 6,
   "metadata": {},
   "outputs": [],
   "source": [
    "#transform to image-year\n",
    "#tsv_name should be at least\n",
    "media_counts_i = media_counts.groupby('img_name').agg({'total_transfers':sum, 'tsv_name':len}).reset_index()"
   ]
  },
  {
   "cell_type": "code",
   "execution_count": 7,
   "metadata": {},
   "outputs": [
    {
     "data": {
      "text/html": [
       "<div>\n",
       "<style scoped>\n",
       "    .dataframe tbody tr th:only-of-type {\n",
       "        vertical-align: middle;\n",
       "    }\n",
       "\n",
       "    .dataframe tbody tr th {\n",
       "        vertical-align: top;\n",
       "    }\n",
       "\n",
       "    .dataframe thead th {\n",
       "        text-align: right;\n",
       "    }\n",
       "</style>\n",
       "<table border=\"1\" class=\"dataframe\">\n",
       "  <thead>\n",
       "    <tr style=\"text-align: right;\">\n",
       "      <th></th>\n",
       "      <th>img_name</th>\n",
       "      <th>total_transfers</th>\n",
       "      <th>tsv_name</th>\n",
       "    </tr>\n",
       "  </thead>\n",
       "  <tbody>\n",
       "    <tr>\n",
       "      <th>11541</th>\n",
       "      <td>Zucchini_1.jpg</td>\n",
       "      <td>1289</td>\n",
       "      <td>333</td>\n",
       "    </tr>\n",
       "    <tr>\n",
       "      <th>11542</th>\n",
       "      <td>Zulu_Dancer.jpg</td>\n",
       "      <td>223</td>\n",
       "      <td>28</td>\n",
       "    </tr>\n",
       "    <tr>\n",
       "      <th>11543</th>\n",
       "      <td>Zulu_Traditional_attire.jpg</td>\n",
       "      <td>2872</td>\n",
       "      <td>364</td>\n",
       "    </tr>\n",
       "    <tr>\n",
       "      <th>11544</th>\n",
       "      <td>Zulu_X(1).jpg</td>\n",
       "      <td>84</td>\n",
       "      <td>5</td>\n",
       "    </tr>\n",
       "    <tr>\n",
       "      <th>11545</th>\n",
       "      <td>Zulu_attire.jpg</td>\n",
       "      <td>1485</td>\n",
       "      <td>354</td>\n",
       "    </tr>\n",
       "  </tbody>\n",
       "</table>\n",
       "</div>"
      ],
      "text/plain": [
       "                          img_name  total_transfers  tsv_name\n",
       "11541               Zucchini_1.jpg             1289       333\n",
       "11542              Zulu_Dancer.jpg              223        28\n",
       "11543  Zulu_Traditional_attire.jpg             2872       364\n",
       "11544                Zulu_X(1).jpg               84         5\n",
       "11545              Zulu_attire.jpg             1485       354"
      ]
     },
     "execution_count": 7,
     "metadata": {},
     "output_type": "execute_result"
    }
   ],
   "source": [
    "media_counts_i.tail()"
   ]
  },
  {
   "cell_type": "code",
   "execution_count": 8,
   "metadata": {},
   "outputs": [
    {
     "data": {
      "text/html": [
       "<div>\n",
       "<style scoped>\n",
       "    .dataframe tbody tr th:only-of-type {\n",
       "        vertical-align: middle;\n",
       "    }\n",
       "\n",
       "    .dataframe tbody tr th {\n",
       "        vertical-align: top;\n",
       "    }\n",
       "\n",
       "    .dataframe thead th {\n",
       "        text-align: right;\n",
       "    }\n",
       "</style>\n",
       "<table border=\"1\" class=\"dataframe\">\n",
       "  <thead>\n",
       "    <tr style=\"text-align: right;\">\n",
       "      <th></th>\n",
       "      <th>img_actor</th>\n",
       "      <th>img_name</th>\n",
       "      <th>year</th>\n",
       "    </tr>\n",
       "  </thead>\n",
       "  <tbody>\n",
       "    <tr>\n",
       "      <th>0</th>\n",
       "      <td>47413</td>\n",
       "      <td>Wiki_Loves_Africa.pdf</td>\n",
       "      <td>2014</td>\n",
       "    </tr>\n",
       "    <tr>\n",
       "      <th>1</th>\n",
       "      <td>4297937</td>\n",
       "      <td>Home_Chef_-_African_food_and_cuisine.jpg</td>\n",
       "      <td>2014</td>\n",
       "    </tr>\n",
       "    <tr>\n",
       "      <th>2</th>\n",
       "      <td>3539708</td>\n",
       "      <td>سوق_بمدينة_المنستير_التونسية_1.JPG</td>\n",
       "      <td>2014</td>\n",
       "    </tr>\n",
       "    <tr>\n",
       "      <th>3</th>\n",
       "      <td>3539708</td>\n",
       "      <td>سوق_بمدينة_المنستير_التونسية_2.JPG</td>\n",
       "      <td>2014</td>\n",
       "    </tr>\n",
       "    <tr>\n",
       "      <th>4</th>\n",
       "      <td>3539708</td>\n",
       "      <td>سوق_بمدينة_المنستير_التونسية_3.JPG</td>\n",
       "      <td>2014</td>\n",
       "    </tr>\n",
       "  </tbody>\n",
       "</table>\n",
       "</div>"
      ],
      "text/plain": [
       "   img_actor                                  img_name  year\n",
       "0      47413                     Wiki_Loves_Africa.pdf  2014\n",
       "1    4297937  Home_Chef_-_African_food_and_cuisine.jpg  2014\n",
       "2    3539708        سوق_بمدينة_المنستير_التونسية_1.JPG  2014\n",
       "3    3539708        سوق_بمدينة_المنستير_التونسية_2.JPG  2014\n",
       "4    3539708        سوق_بمدينة_المنستير_التونسية_3.JPG  2014"
      ]
     },
     "execution_count": 8,
     "metadata": {},
     "output_type": "execute_result"
    }
   ],
   "source": [
    "user_filename.head()"
   ]
  },
  {
   "cell_type": "code",
   "execution_count": 9,
   "metadata": {},
   "outputs": [],
   "source": [
    "image_user = media_counts_i.merge(user_filename, on='img_name', how='left')"
   ]
  },
  {
   "cell_type": "code",
   "execution_count": 10,
   "metadata": {},
   "outputs": [
    {
     "data": {
      "text/html": [
       "<div>\n",
       "<style scoped>\n",
       "    .dataframe tbody tr th:only-of-type {\n",
       "        vertical-align: middle;\n",
       "    }\n",
       "\n",
       "    .dataframe tbody tr th {\n",
       "        vertical-align: top;\n",
       "    }\n",
       "\n",
       "    .dataframe thead th {\n",
       "        text-align: right;\n",
       "    }\n",
       "</style>\n",
       "<table border=\"1\" class=\"dataframe\">\n",
       "  <thead>\n",
       "    <tr style=\"text-align: right;\">\n",
       "      <th></th>\n",
       "      <th>img_name</th>\n",
       "      <th>total_transfers</th>\n",
       "      <th>tsv_name</th>\n",
       "      <th>img_actor</th>\n",
       "      <th>year</th>\n",
       "    </tr>\n",
       "  </thead>\n",
       "  <tbody>\n",
       "    <tr>\n",
       "      <th>11527</th>\n",
       "      <td>Zucchini_1.jpg</td>\n",
       "      <td>1289</td>\n",
       "      <td>333</td>\n",
       "      <td>3539708</td>\n",
       "      <td>2014</td>\n",
       "    </tr>\n",
       "    <tr>\n",
       "      <th>11528</th>\n",
       "      <td>Zulu_Dancer.jpg</td>\n",
       "      <td>223</td>\n",
       "      <td>28</td>\n",
       "      <td>2382602</td>\n",
       "      <td>2016</td>\n",
       "    </tr>\n",
       "    <tr>\n",
       "      <th>11529</th>\n",
       "      <td>Zulu_Traditional_attire.jpg</td>\n",
       "      <td>2872</td>\n",
       "      <td>364</td>\n",
       "      <td>5560173</td>\n",
       "      <td>2015</td>\n",
       "    </tr>\n",
       "    <tr>\n",
       "      <th>11530</th>\n",
       "      <td>Zulu_X(1).jpg</td>\n",
       "      <td>84</td>\n",
       "      <td>5</td>\n",
       "      <td>6331884</td>\n",
       "      <td>2016</td>\n",
       "    </tr>\n",
       "    <tr>\n",
       "      <th>11531</th>\n",
       "      <td>Zulu_attire.jpg</td>\n",
       "      <td>1485</td>\n",
       "      <td>354</td>\n",
       "      <td>5524354</td>\n",
       "      <td>2015</td>\n",
       "    </tr>\n",
       "  </tbody>\n",
       "</table>\n",
       "</div>"
      ],
      "text/plain": [
       "                          img_name  total_transfers  tsv_name  img_actor  year\n",
       "11527               Zucchini_1.jpg             1289       333    3539708  2014\n",
       "11528              Zulu_Dancer.jpg              223        28    2382602  2016\n",
       "11529  Zulu_Traditional_attire.jpg             2872       364    5560173  2015\n",
       "11530                Zulu_X(1).jpg               84         5    6331884  2016\n",
       "11531              Zulu_attire.jpg             1485       354    5524354  2015"
      ]
     },
     "execution_count": 10,
     "metadata": {},
     "output_type": "execute_result"
    }
   ],
   "source": [
    "image_user.tail()"
   ]
  },
  {
   "cell_type": "code",
   "execution_count": 11,
   "metadata": {},
   "outputs": [
    {
     "data": {
      "text/plain": [
       "2"
      ]
     },
     "execution_count": 11,
     "metadata": {},
     "output_type": "execute_result"
    }
   ],
   "source": [
    "len(set(pd.Series([2014,2015])))"
   ]
  },
  {
   "cell_type": "code",
   "execution_count": 12,
   "metadata": {},
   "outputs": [],
   "source": [
    "# 1. Latest year participated\n",
    "# 1. How many images the contributed latest year\n",
    "# 1. list of images they contributed\n",
    "# 1. Image-view-count in that year (for all WLA images)?\n",
    "# 1. \\[nice to have\\] image view count of their most contributed image # would need to aggregate on multiple columns\n",
    "\n",
    "def latest_year_participated(series):\n",
    "    return max(series)\n",
    "\n",
    "def num_years_participated(series):\n",
    "    return len(set(series))\n",
    "\n",
    "def contributed_images_json(series):\n",
    "    return json.dumps(list(series.values))\n",
    "               \n",
    "def num_views_all_wla_images_ever(series):\n",
    "    return series.sum()\n",
    "\n",
    "def num_images_contributed_ever(series):\n",
    "    return len(set(series))\n",
    "               \n",
    "\n",
    "agg_d = {}\n",
    "agg_d['img_name'] = contributed_images_json, num_images_contributed_ever\n",
    "agg_d['total_transfers'] = num_views_all_wla_images_ever\n",
    "agg_d['year'] = latest_year_participated, num_years_participated\n",
    "\n",
    "user_df = image_user.groupby('img_actor').agg(agg_d)\n",
    "user_df.columns = user_df.columns.get_level_values(1)\n",
    "user_df=user_df.reset_index()"
   ]
  },
  {
   "cell_type": "code",
   "execution_count": 13,
   "metadata": {},
   "outputs": [
    {
     "data": {
      "text/html": [
       "<div>\n",
       "<style scoped>\n",
       "    .dataframe tbody tr th:only-of-type {\n",
       "        vertical-align: middle;\n",
       "    }\n",
       "\n",
       "    .dataframe tbody tr th {\n",
       "        vertical-align: top;\n",
       "    }\n",
       "\n",
       "    .dataframe thead th {\n",
       "        text-align: right;\n",
       "    }\n",
       "</style>\n",
       "<table border=\"1\" class=\"dataframe\">\n",
       "  <thead>\n",
       "    <tr style=\"text-align: right;\">\n",
       "      <th></th>\n",
       "      <th>img_actor</th>\n",
       "      <th>contributed_images_json</th>\n",
       "      <th>num_images_contributed_ever</th>\n",
       "      <th>num_views_all_wla_images_ever</th>\n",
       "      <th>latest_year_participated</th>\n",
       "      <th>num_years_participated</th>\n",
       "    </tr>\n",
       "  </thead>\n",
       "  <tbody>\n",
       "    <tr>\n",
       "      <th>0</th>\n",
       "      <td>13</td>\n",
       "      <td>[\"AFRICAN_-_AMERICAN.JPG\", \"ARMLESS_KANGA.JPG\"...</td>\n",
       "      <td>111</td>\n",
       "      <td>293570</td>\n",
       "      <td>2016</td>\n",
       "      <td>3</td>\n",
       "    </tr>\n",
       "    <tr>\n",
       "      <th>1</th>\n",
       "      <td>30</td>\n",
       "      <td>[\"African_shades.jpg\", \"Les_Amazones_d'Afrique...</td>\n",
       "      <td>100</td>\n",
       "      <td>54071</td>\n",
       "      <td>2016</td>\n",
       "      <td>3</td>\n",
       "    </tr>\n",
       "    <tr>\n",
       "      <th>2</th>\n",
       "      <td>62</td>\n",
       "      <td>[\"Robe_khabyel.jpg\"]</td>\n",
       "      <td>1</td>\n",
       "      <td>5286</td>\n",
       "      <td>2015</td>\n",
       "      <td>1</td>\n",
       "    </tr>\n",
       "    <tr>\n",
       "      <th>3</th>\n",
       "      <td>89</td>\n",
       "      <td>[\"Big_Dreams.jpg\", \"Photojournalist.jpg\"]</td>\n",
       "      <td>2</td>\n",
       "      <td>627</td>\n",
       "      <td>2017</td>\n",
       "      <td>1</td>\n",
       "    </tr>\n",
       "    <tr>\n",
       "      <th>4</th>\n",
       "      <td>125</td>\n",
       "      <td>[\"Collier_MHNT_ETH_2012_23_108.jpg\", \"Collier_...</td>\n",
       "      <td>3</td>\n",
       "      <td>19740</td>\n",
       "      <td>2015</td>\n",
       "      <td>1</td>\n",
       "    </tr>\n",
       "  </tbody>\n",
       "</table>\n",
       "</div>"
      ],
      "text/plain": [
       "   img_actor                            contributed_images_json  \\\n",
       "0         13  [\"AFRICAN_-_AMERICAN.JPG\", \"ARMLESS_KANGA.JPG\"...   \n",
       "1         30  [\"African_shades.jpg\", \"Les_Amazones_d'Afrique...   \n",
       "2         62                               [\"Robe_khabyel.jpg\"]   \n",
       "3         89          [\"Big_Dreams.jpg\", \"Photojournalist.jpg\"]   \n",
       "4        125  [\"Collier_MHNT_ETH_2012_23_108.jpg\", \"Collier_...   \n",
       "\n",
       "   num_images_contributed_ever  num_views_all_wla_images_ever  \\\n",
       "0                          111                         293570   \n",
       "1                          100                          54071   \n",
       "2                            1                           5286   \n",
       "3                            2                            627   \n",
       "4                            3                          19740   \n",
       "\n",
       "   latest_year_participated  num_years_participated  \n",
       "0                      2016                       3  \n",
       "1                      2016                       3  \n",
       "2                      2015                       1  \n",
       "3                      2017                       1  \n",
       "4                      2015                       1  "
      ]
     },
     "execution_count": 13,
     "metadata": {},
     "output_type": "execute_result"
    }
   ],
   "source": [
    "user_df.head()"
   ]
  },
  {
   "cell_type": "code",
   "execution_count": 14,
   "metadata": {},
   "outputs": [
    {
     "data": {
      "text/plain": [
       "(1682, 6)"
      ]
     },
     "execution_count": 14,
     "metadata": {},
     "output_type": "execute_result"
    }
   ],
   "source": [
    "user_df.shape"
   ]
  },
  {
   "cell_type": "code",
   "execution_count": 15,
   "metadata": {},
   "outputs": [
    {
     "data": {
      "text/plain": [
       "'[\"AFRICAN_-_AMERICAN.JPG\", \"ARMLESS_KANGA.JPG\", \"A_Young_couple.JPG\", \"Acha_soup.jpg\", \"Africa_at_Church_03.JPG\", \"Art_work_from_Essaouira.jpg\", \"Asili_ya_Kitenge.jpg\", \"Asili_ya_Mwafrika.jpg\", \"Asilia_ya_Mwafrika.jpg\", \"Berrad.jpg\", \"Berrad_sur_feu.jpg\", \"Broderie_1.JPG\", \"Chania_15.jpg\", \"Chaussure_femme_traditionnelle_45.JPG\", \"Chungu.jpg\", \"Confection_des_habits_tradionnels_1.JPG\", \"Culture_Fashion_Tunisia_10.JPG\", \"Culture_Fashion_Tunisia_14.JPG\", \"Culture_Fashion_Tunisia_35.JPG\", \"DGdanse08.JPG\", \"DGdanseLali.JPG\", \"DGdanselali04.JPG\", \"DGdansesecrete04.JPG\", \"Dizaini.jpg\", \"Dizaini_ya_kitenge.jpg\", \"EMPIRE_KANGA.JPG\", \"EgyptianFruits_PhotoByWaelNawara.jpg\", \"EgyptianTurkeyAndRiceBelKhalta_PhotoByWaelNawara.jpg\", \"Egyptian_plate_001.jpg\", \"Egyptian_plate_002.jpg\", \"Egyptian_plate_004.jpg\", \"Egyptian_plate_005.jpg\", \"Egyptian_plate_006.jpg\", \"Egyptian_plate_007.jpg\", \"Egyptian_plate_008.jpg\", \"Egyptian_plate_010.jpg\", \"Egyptian_plate_012.jpg\", \"Egyptian_plate_013.jpg\", \"Egyptian_plate_014.jpg\", \"Egyptian_plate_015.jpg\", \"Egyptian_sweet_010.jpg\", \"Emma_oyene_benson_photo_02.jpg\", \"Ethiopian_Coca_Cola_bottle.JPG\", \"Fresh_Fish_stew.jpg\", \"Fruit_Cake_017.jpg\", \"Fruit_Cake_018.jpg\", \"Fruit_Cake_019_(1).jpg\", \"Fruit_Cake_019_(2).jpg\", \"Fruit_Cake_019_(3).jpg\", \"Fruit_Cake_019_(4).jpg\", \"Fruit_cake_023.jpg\", \"Fufu_in_ghana.jpg\", \"Habit_tradionnel_berbere_2.JPG\", \"Habit_tradionnel_berbere_3.JPG\", \"Habit_tradionnel_de_hammamet_18.JPG\", \"Habit_tradionnel_de_hammamet_19.JPG\", \"Habit_tradionnel_de_hammamet_2.JPG\", \"Habit_tradionnel_de_hammamet_20.JPG\", \"Habit_tradionnel_de_hammamet_4.JPG\", \"Habit_tradionnel_de_hammamet_5.JPG\", \"Habit_tradionnel_de_hammamet_6.JPG\", \"Habit_tradionnel_de_hammamet_7.JPG\", \"Habit_tradionnel_hammamet_11.JPG\", \"Habit_tradionnel_hammamet_13.JPG\", \"Habit_tradionnel_hammamet_16.JPG\", \"Habit_tradionnel_hammamet_8.JPG\", \"Habit_tradionnel_hammamet_9.JPG\", \"Image_of_a_woman.jpg\", \"Ivorian_young_lady.JPG\", \"Kimasai.jpg\", \"Kitenge_Fashion.jpg\", \"Kitenge_dizaini.jpg\", \"Kitenge_fasheni.jpg\", \"Mapambo.jpg\", \"Mapambo_tu.jpg\", \"Michoro_ya_asili.jpg\", \"Mikufu.jpg\", \"Mikufu_asilia.jpg\", \"Mikufu_mirefu.jpg\", \"Mont_Mambila_Atta.jpg\", \"Mrs_Alao.jpg\", \"Mwanamke_wa_Kitanzania.jpg\", \"NANA_WARING_AFRICAN.jpg\", \"Nzujju.JPG\", \"Okusandika_amatooke.JPG\", \"Pisi_tatu.jpg\", \"Relaxing_after_carrying_onions.JPG\", \"Roasted_Dried_Fish.jpg\", \"Salade_d\\'avocat.jpg\", \"Samwan0012.jpg\", \"Samwan0284.jpg\", \"Samwan0285.jpg\", \"Samwan0416.jpg\", \"Samwan0429.jpg\", \"Samwan0569.jpg\", \"Samwan0573.jpg\", \"Sweets_of_tunisia.JPG\", \"Tanzanian_girl.jpg\", \"Tata_maroc.jpg\", \"Tenue_EBRIE_05.JPG\", \"The_Groom.JPG\", \"The_Ranch_man.jpg\", \"Trois_Grenade.jpg\", \"Urembo.jpg\", \"Urembo_asilia_wa_urembo.jpg\", \"Urembo_wa_usoni.jpg\", \"Utamaduni.jpg\", \"Utamaduni_wa_Kimasai.jpg\", \"Various_vegetables.jpg\", \"WATER_FALL.JPG\", \"Wla_erina_uganda_0111.jpg\"]'"
      ]
     },
     "execution_count": 15,
     "metadata": {},
     "output_type": "execute_result"
    }
   ],
   "source": [
    "user_df.iloc[0][\"contributed_images_json\"]"
   ]
  },
  {
   "cell_type": "markdown",
   "metadata": {},
   "source": [
    "# user -level column adds"
   ]
  },
  {
   "cell_type": "code",
   "execution_count": 16,
   "metadata": {},
   "outputs": [],
   "source": [
    "# 1. How many edits they made during that year\n",
    "# 1. How many other images they contributed that year  image/ img_timestamp\n",
    "# 1. their user-language preference on commons"
   ]
  },
  {
   "cell_type": "code",
   "execution_count": 17,
   "metadata": {},
   "outputs": [],
   "source": [
    "import civilservant"
   ]
  },
  {
   "cell_type": "code",
   "execution_count": 33,
   "metadata": {},
   "outputs": [],
   "source": [
    "from civilservant.wikipedia.connections.database import make_wmf_con\n",
    "from civilservant.wikipedia.queries.revisions import get_timestamps_within_range\n",
    "from civilservant.wikipedia.queries.users import get_user_name_id_from_actor"
   ]
  },
  {
   "cell_type": "markdown",
   "metadata": {},
   "source": [
    "Outcome Variables\n",
    "1) binary whether or not they entered the competition and \n",
    "2) how many photos they entered."
   ]
  },
  {
   "cell_type": "code",
   "execution_count": 31,
   "metadata": {},
   "outputs": [],
   "source": [
    "wmf_db = make_wmf_con()"
   ]
  },
  {
   "cell_type": "code",
   "execution_count": 34,
   "metadata": {},
   "outputs": [],
   "source": [
    "def get_user_name_id(nameid, actor_id):\n",
    "    user_df = get_user_name_id_from_actor('commons', actor_id, wmf_db)\n",
    "    return user_df.iloc[0][nameid]"
   ]
  },
  {
   "cell_type": "code",
   "execution_count": 37,
   "metadata": {},
   "outputs": [],
   "source": [
    "user_df = user_df[:10]"
   ]
  },
  {
   "cell_type": "code",
   "execution_count": 38,
   "metadata": {},
   "outputs": [
    {
     "name": "stderr",
     "output_type": "stream",
     "text": [
      "/home/paprika/.local/share/virtualenvs/civilservant-wla-wKX6CekY/lib/python3.7/site-packages/ipykernel_launcher.py:1: SettingWithCopyWarning: \n",
      "A value is trying to be set on a copy of a slice from a DataFrame.\n",
      "Try using .loc[row_indexer,col_indexer] = value instead\n",
      "\n",
      "See the caveats in the documentation: http://pandas.pydata.org/pandas-docs/stable/user_guide/indexing.html#returning-a-view-versus-a-copy\n",
      "  \"\"\"Entry point for launching an IPython kernel.\n"
     ]
    }
   ],
   "source": [
    "user_df['user_name'] = user_df.apply(lambda row: get_user_name_id('user_name', row['img_actor']), axis=1)"
   ]
  },
  {
   "cell_type": "code",
   "execution_count": 39,
   "metadata": {},
   "outputs": [
    {
     "name": "stderr",
     "output_type": "stream",
     "text": [
      "/home/paprika/.local/share/virtualenvs/civilservant-wla-wKX6CekY/lib/python3.7/site-packages/ipykernel_launcher.py:1: SettingWithCopyWarning: \n",
      "A value is trying to be set on a copy of a slice from a DataFrame.\n",
      "Try using .loc[row_indexer,col_indexer] = value instead\n",
      "\n",
      "See the caveats in the documentation: http://pandas.pydata.org/pandas-docs/stable/user_guide/indexing.html#returning-a-view-versus-a-copy\n",
      "  \"\"\"Entry point for launching an IPython kernel.\n"
     ]
    }
   ],
   "source": [
    "user_df['user_id'] = user_df.apply(lambda row: get_user_name_id('user_id', row['img_actor']), axis=1)"
   ]
  },
  {
   "cell_type": "code",
   "execution_count": 41,
   "metadata": {},
   "outputs": [
    {
     "data": {
      "text/html": [
       "<div>\n",
       "<style scoped>\n",
       "    .dataframe tbody tr th:only-of-type {\n",
       "        vertical-align: middle;\n",
       "    }\n",
       "\n",
       "    .dataframe tbody tr th {\n",
       "        vertical-align: top;\n",
       "    }\n",
       "\n",
       "    .dataframe thead th {\n",
       "        text-align: right;\n",
       "    }\n",
       "</style>\n",
       "<table border=\"1\" class=\"dataframe\">\n",
       "  <thead>\n",
       "    <tr style=\"text-align: right;\">\n",
       "      <th></th>\n",
       "      <th>img_actor</th>\n",
       "      <th>contributed_images_json</th>\n",
       "      <th>num_images_contributed_ever</th>\n",
       "      <th>num_views_all_wla_images_ever</th>\n",
       "      <th>latest_year_participated</th>\n",
       "      <th>num_years_participated</th>\n",
       "      <th>user_name</th>\n",
       "      <th>user_id</th>\n",
       "    </tr>\n",
       "  </thead>\n",
       "  <tbody>\n",
       "    <tr>\n",
       "      <th>0</th>\n",
       "      <td>13</td>\n",
       "      <td>[\"AFRICAN_-_AMERICAN.JPG\", \"ARMLESS_KANGA.JPG\"...</td>\n",
       "      <td>111</td>\n",
       "      <td>293570</td>\n",
       "      <td>2016</td>\n",
       "      <td>3</td>\n",
       "      <td>b'SteinsplitterBot'</td>\n",
       "      <td>3714013</td>\n",
       "    </tr>\n",
       "    <tr>\n",
       "      <th>1</th>\n",
       "      <td>30</td>\n",
       "      <td>[\"African_shades.jpg\", \"Les_Amazones_d'Afrique...</td>\n",
       "      <td>100</td>\n",
       "      <td>54071</td>\n",
       "      <td>2016</td>\n",
       "      <td>3</td>\n",
       "      <td>b'Thesupermat'</td>\n",
       "      <td>61609</td>\n",
       "    </tr>\n",
       "    <tr>\n",
       "      <th>2</th>\n",
       "      <td>62</td>\n",
       "      <td>[\"Robe_khabyel.jpg\"]</td>\n",
       "      <td>1</td>\n",
       "      <td>5286</td>\n",
       "      <td>2015</td>\n",
       "      <td>1</td>\n",
       "      <td>b'Secondarywaltz'</td>\n",
       "      <td>222859</td>\n",
       "    </tr>\n",
       "    <tr>\n",
       "      <th>3</th>\n",
       "      <td>89</td>\n",
       "      <td>[\"Big_Dreams.jpg\", \"Photojournalist.jpg\"]</td>\n",
       "      <td>2</td>\n",
       "      <td>627</td>\n",
       "      <td>2017</td>\n",
       "      <td>1</td>\n",
       "      <td>b'Embedded Data Bot'</td>\n",
       "      <td>6325156</td>\n",
       "    </tr>\n",
       "    <tr>\n",
       "      <th>4</th>\n",
       "      <td>125</td>\n",
       "      <td>[\"Collier_MHNT_ETH_2012_23_108.jpg\", \"Collier_...</td>\n",
       "      <td>3</td>\n",
       "      <td>19740</td>\n",
       "      <td>2015</td>\n",
       "      <td>1</td>\n",
       "      <td>b'Archaeodontosaurus'</td>\n",
       "      <td>591251</td>\n",
       "    </tr>\n",
       "  </tbody>\n",
       "</table>\n",
       "</div>"
      ],
      "text/plain": [
       "   img_actor                            contributed_images_json  \\\n",
       "0         13  [\"AFRICAN_-_AMERICAN.JPG\", \"ARMLESS_KANGA.JPG\"...   \n",
       "1         30  [\"African_shades.jpg\", \"Les_Amazones_d'Afrique...   \n",
       "2         62                               [\"Robe_khabyel.jpg\"]   \n",
       "3         89          [\"Big_Dreams.jpg\", \"Photojournalist.jpg\"]   \n",
       "4        125  [\"Collier_MHNT_ETH_2012_23_108.jpg\", \"Collier_...   \n",
       "\n",
       "   num_images_contributed_ever  num_views_all_wla_images_ever  \\\n",
       "0                          111                         293570   \n",
       "1                          100                          54071   \n",
       "2                            1                           5286   \n",
       "3                            2                            627   \n",
       "4                            3                          19740   \n",
       "\n",
       "   latest_year_participated  num_years_participated              user_name  \\\n",
       "0                      2016                       3    b'SteinsplitterBot'   \n",
       "1                      2016                       3         b'Thesupermat'   \n",
       "2                      2015                       1      b'Secondarywaltz'   \n",
       "3                      2017                       1   b'Embedded Data Bot'   \n",
       "4                      2015                       1  b'Archaeodontosaurus'   \n",
       "\n",
       "   user_id  \n",
       "0  3714013  \n",
       "1    61609  \n",
       "2   222859  \n",
       "3  6325156  \n",
       "4   591251  "
      ]
     },
     "execution_count": 41,
     "metadata": {},
     "output_type": "execute_result"
    }
   ],
   "source": [
    "user_df.head()"
   ]
  },
  {
   "cell_type": "markdown",
   "metadata": {},
   "source": [
    "# Outcome variables\n",
    "\n",
    "1. binary whether or not they entered the competition and \n",
    "2. how many photos they entered."
   ]
  },
  {
   "cell_type": "code",
   "execution_count": 43,
   "metadata": {},
   "outputs": [
    {
     "data": {
      "text/html": [
       "<div>\n",
       "<style scoped>\n",
       "    .dataframe tbody tr th:only-of-type {\n",
       "        vertical-align: middle;\n",
       "    }\n",
       "\n",
       "    .dataframe tbody tr th {\n",
       "        vertical-align: top;\n",
       "    }\n",
       "\n",
       "    .dataframe thead th {\n",
       "        text-align: right;\n",
       "    }\n",
       "</style>\n",
       "<table border=\"1\" class=\"dataframe\">\n",
       "  <thead>\n",
       "    <tr style=\"text-align: right;\">\n",
       "      <th></th>\n",
       "      <th>img_actor</th>\n",
       "      <th>contributed_images_json</th>\n",
       "      <th>num_images_contributed_ever</th>\n",
       "      <th>num_views_all_wla_images_ever</th>\n",
       "      <th>latest_year_participated</th>\n",
       "      <th>num_years_participated</th>\n",
       "      <th>user_name</th>\n",
       "      <th>user_id</th>\n",
       "    </tr>\n",
       "  </thead>\n",
       "  <tbody>\n",
       "    <tr>\n",
       "      <th>0</th>\n",
       "      <td>13</td>\n",
       "      <td>[\"AFRICAN_-_AMERICAN.JPG\", \"ARMLESS_KANGA.JPG\"...</td>\n",
       "      <td>111</td>\n",
       "      <td>293570</td>\n",
       "      <td>2016</td>\n",
       "      <td>3</td>\n",
       "      <td>b'SteinsplitterBot'</td>\n",
       "      <td>3714013</td>\n",
       "    </tr>\n",
       "    <tr>\n",
       "      <th>1</th>\n",
       "      <td>30</td>\n",
       "      <td>[\"African_shades.jpg\", \"Les_Amazones_d'Afrique...</td>\n",
       "      <td>100</td>\n",
       "      <td>54071</td>\n",
       "      <td>2016</td>\n",
       "      <td>3</td>\n",
       "      <td>b'Thesupermat'</td>\n",
       "      <td>61609</td>\n",
       "    </tr>\n",
       "    <tr>\n",
       "      <th>2</th>\n",
       "      <td>62</td>\n",
       "      <td>[\"Robe_khabyel.jpg\"]</td>\n",
       "      <td>1</td>\n",
       "      <td>5286</td>\n",
       "      <td>2015</td>\n",
       "      <td>1</td>\n",
       "      <td>b'Secondarywaltz'</td>\n",
       "      <td>222859</td>\n",
       "    </tr>\n",
       "    <tr>\n",
       "      <th>3</th>\n",
       "      <td>89</td>\n",
       "      <td>[\"Big_Dreams.jpg\", \"Photojournalist.jpg\"]</td>\n",
       "      <td>2</td>\n",
       "      <td>627</td>\n",
       "      <td>2017</td>\n",
       "      <td>1</td>\n",
       "      <td>b'Embedded Data Bot'</td>\n",
       "      <td>6325156</td>\n",
       "    </tr>\n",
       "    <tr>\n",
       "      <th>4</th>\n",
       "      <td>125</td>\n",
       "      <td>[\"Collier_MHNT_ETH_2012_23_108.jpg\", \"Collier_...</td>\n",
       "      <td>3</td>\n",
       "      <td>19740</td>\n",
       "      <td>2015</td>\n",
       "      <td>1</td>\n",
       "      <td>b'Archaeodontosaurus'</td>\n",
       "      <td>591251</td>\n",
       "    </tr>\n",
       "    <tr>\n",
       "      <th>5</th>\n",
       "      <td>157</td>\n",
       "      <td>[\"AMATA.jpg\", \"BALLS_OF_BANKU.jpg\", \"Baleng_2....</td>\n",
       "      <td>57</td>\n",
       "      <td>1660246</td>\n",
       "      <td>2016</td>\n",
       "      <td>3</td>\n",
       "      <td>b'Ji-Elle'</td>\n",
       "      <td>30885</td>\n",
       "    </tr>\n",
       "    <tr>\n",
       "      <th>6</th>\n",
       "      <td>662</td>\n",
       "      <td>[\"Tunisian_brown_couscous_with_vegetables.JPG\"]</td>\n",
       "      <td>1</td>\n",
       "      <td>1170731</td>\n",
       "      <td>2014</td>\n",
       "      <td>1</td>\n",
       "      <td>b'Takeaway'</td>\n",
       "      <td>335606</td>\n",
       "    </tr>\n",
       "    <tr>\n",
       "      <th>7</th>\n",
       "      <td>979</td>\n",
       "      <td>[\"Condiments.jpg\", \"Escargot2.JPG\", \"Escargot3...</td>\n",
       "      <td>9</td>\n",
       "      <td>4945</td>\n",
       "      <td>2014</td>\n",
       "      <td>1</td>\n",
       "      <td>b'Zenman'</td>\n",
       "      <td>219198</td>\n",
       "    </tr>\n",
       "    <tr>\n",
       "      <th>8</th>\n",
       "      <td>1328</td>\n",
       "      <td>[\"WOOD.jpg\"]</td>\n",
       "      <td>1</td>\n",
       "      <td>1543</td>\n",
       "      <td>2015</td>\n",
       "      <td>1</td>\n",
       "      <td>b'Amada44'</td>\n",
       "      <td>92460</td>\n",
       "    </tr>\n",
       "    <tr>\n",
       "      <th>9</th>\n",
       "      <td>1470</td>\n",
       "      <td>[\"Dried_Snoek_near_Grotto_Bay.jpg\", \"Mielies_o...</td>\n",
       "      <td>7</td>\n",
       "      <td>277500</td>\n",
       "      <td>2014</td>\n",
       "      <td>1</td>\n",
       "      <td>b'Ossewa'</td>\n",
       "      <td>256347</td>\n",
       "    </tr>\n",
       "  </tbody>\n",
       "</table>\n",
       "</div>"
      ],
      "text/plain": [
       "   img_actor                            contributed_images_json  \\\n",
       "0         13  [\"AFRICAN_-_AMERICAN.JPG\", \"ARMLESS_KANGA.JPG\"...   \n",
       "1         30  [\"African_shades.jpg\", \"Les_Amazones_d'Afrique...   \n",
       "2         62                               [\"Robe_khabyel.jpg\"]   \n",
       "3         89          [\"Big_Dreams.jpg\", \"Photojournalist.jpg\"]   \n",
       "4        125  [\"Collier_MHNT_ETH_2012_23_108.jpg\", \"Collier_...   \n",
       "5        157  [\"AMATA.jpg\", \"BALLS_OF_BANKU.jpg\", \"Baleng_2....   \n",
       "6        662    [\"Tunisian_brown_couscous_with_vegetables.JPG\"]   \n",
       "7        979  [\"Condiments.jpg\", \"Escargot2.JPG\", \"Escargot3...   \n",
       "8       1328                                       [\"WOOD.jpg\"]   \n",
       "9       1470  [\"Dried_Snoek_near_Grotto_Bay.jpg\", \"Mielies_o...   \n",
       "\n",
       "   num_images_contributed_ever  num_views_all_wla_images_ever  \\\n",
       "0                          111                         293570   \n",
       "1                          100                          54071   \n",
       "2                            1                           5286   \n",
       "3                            2                            627   \n",
       "4                            3                          19740   \n",
       "5                           57                        1660246   \n",
       "6                            1                        1170731   \n",
       "7                            9                           4945   \n",
       "8                            1                           1543   \n",
       "9                            7                         277500   \n",
       "\n",
       "   latest_year_participated  num_years_participated              user_name  \\\n",
       "0                      2016                       3    b'SteinsplitterBot'   \n",
       "1                      2016                       3         b'Thesupermat'   \n",
       "2                      2015                       1      b'Secondarywaltz'   \n",
       "3                      2017                       1   b'Embedded Data Bot'   \n",
       "4                      2015                       1  b'Archaeodontosaurus'   \n",
       "5                      2016                       3             b'Ji-Elle'   \n",
       "6                      2014                       1            b'Takeaway'   \n",
       "7                      2014                       1              b'Zenman'   \n",
       "8                      2015                       1             b'Amada44'   \n",
       "9                      2014                       1              b'Ossewa'   \n",
       "\n",
       "   user_id  \n",
       "0  3714013  \n",
       "1    61609  \n",
       "2   222859  \n",
       "3  6325156  \n",
       "4   591251  \n",
       "5    30885  \n",
       "6   335606  \n",
       "7   219198  \n",
       "8    92460  \n",
       "9   256347  "
      ]
     },
     "execution_count": 43,
     "metadata": {},
     "output_type": "execute_result"
    }
   ],
   "source": [
    "user_df"
   ]
  },
  {
   "cell_type": "code",
   "execution_count": null,
   "metadata": {},
   "outputs": [],
   "source": []
  }
 ],
 "metadata": {
  "kernelspec": {
   "display_name": "Python 3",
   "language": "python",
   "name": "python3"
  },
  "language_info": {
   "codemirror_mode": {
    "name": "ipython",
    "version": 3
   },
   "file_extension": ".py",
   "mimetype": "text/x-python",
   "name": "python",
   "nbconvert_exporter": "python",
   "pygments_lexer": "ipython3",
   "version": "3.7.3"
  }
 },
 "nbformat": 4,
 "nbformat_minor": 2
}
