{
 "cells": [
  {
   "cell_type": "code",
   "execution_count": 1,
   "metadata": {},
   "outputs": [],
   "source": [
    "import pandas as pd\n",
    "from datetime import datetime\n",
    "from civilservant.wikipedia.utils import make_cached_df"
   ]
  },
  {
   "cell_type": "code",
   "execution_count": 2,
   "metadata": {},
   "outputs": [],
   "source": [
    "images = pd.read_csv('output/all-images-20200104.csv')"
   ]
  },
  {
   "cell_type": "code",
   "execution_count": 3,
   "metadata": {},
   "outputs": [
    {
     "name": "stderr",
     "output_type": "stream",
     "text": [
      "Sending requests with default User-Agent.  Set 'user_agent' on mwapi.Session to quiet this message.\n"
     ]
    }
   ],
   "source": [
    "import mwapi\n",
    "mw = mwapi.Session(host='https://commons.wikimedia.org')"
   ]
  },
  {
   "cell_type": "code",
   "execution_count": 4,
   "metadata": {},
   "outputs": [
    {
     "data": {
      "text/html": [
       "<div>\n",
       "<style scoped>\n",
       "    .dataframe tbody tr th:only-of-type {\n",
       "        vertical-align: middle;\n",
       "    }\n",
       "\n",
       "    .dataframe tbody tr th {\n",
       "        vertical-align: top;\n",
       "    }\n",
       "\n",
       "    .dataframe thead th {\n",
       "        text-align: right;\n",
       "    }\n",
       "</style>\n",
       "<table border=\"1\" class=\"dataframe\">\n",
       "  <thead>\n",
       "    <tr style=\"text-align: right;\">\n",
       "      <th></th>\n",
       "      <th>user_name</th>\n",
       "      <th>user_id</th>\n",
       "      <th>img_name</th>\n",
       "      <th>year</th>\n",
       "    </tr>\n",
       "  </thead>\n",
       "  <tbody>\n",
       "    <tr>\n",
       "      <th>0</th>\n",
       "      <td>Islahaddow</td>\n",
       "      <td>1499491</td>\n",
       "      <td>Wiki_Loves_Africa.pdf</td>\n",
       "      <td>2014</td>\n",
       "    </tr>\n",
       "    <tr>\n",
       "      <th>1</th>\n",
       "      <td>D Malesi</td>\n",
       "      <td>4163374</td>\n",
       "      <td>Home_Chef_-_African_food_and_cuisine.jpg</td>\n",
       "      <td>2014</td>\n",
       "    </tr>\n",
       "    <tr>\n",
       "      <th>2</th>\n",
       "      <td>TOUMOU</td>\n",
       "      <td>3391181</td>\n",
       "      <td>سوق_بمدينة_المنستير_التونسية_1.JPG</td>\n",
       "      <td>2014</td>\n",
       "    </tr>\n",
       "    <tr>\n",
       "      <th>3</th>\n",
       "      <td>TOUMOU</td>\n",
       "      <td>3391181</td>\n",
       "      <td>سوق_بمدينة_المنستير_التونسية_2.JPG</td>\n",
       "      <td>2014</td>\n",
       "    </tr>\n",
       "    <tr>\n",
       "      <th>4</th>\n",
       "      <td>TOUMOU</td>\n",
       "      <td>3391181</td>\n",
       "      <td>سوق_بمدينة_المنستير_التونسية_3.JPG</td>\n",
       "      <td>2014</td>\n",
       "    </tr>\n",
       "  </tbody>\n",
       "</table>\n",
       "</div>"
      ],
      "text/plain": [
       "    user_name  user_id                                  img_name  year\n",
       "0  Islahaddow  1499491                     Wiki_Loves_Africa.pdf  2014\n",
       "1    D Malesi  4163374  Home_Chef_-_African_food_and_cuisine.jpg  2014\n",
       "2      TOUMOU  3391181        سوق_بمدينة_المنستير_التونسية_1.JPG  2014\n",
       "3      TOUMOU  3391181        سوق_بمدينة_المنستير_التونسية_2.JPG  2014\n",
       "4      TOUMOU  3391181        سوق_بمدينة_المنستير_التونسية_3.JPG  2014"
      ]
     },
     "execution_count": 4,
     "metadata": {},
     "output_type": "execute_result"
    }
   ],
   "source": [
    "images.head()"
   ]
  },
  {
   "cell_type": "code",
   "execution_count": 30,
   "metadata": {},
   "outputs": [],
   "source": [
    "@make_cached_df('imageinfo')\n",
    "def get_original_uploader(img_name):\n",
    "    img_name_f = f'File:{img_name}'\n",
    "    # example https://commons.wikimedia.org/w/api.php?action=query&titles=File:Musa%20with%20wheelbarrow.jpg&prop=imageinfo&iilimit=max\n",
    "    # example action=query&titles=File:Musa%20with%20wheelbarrow.jpg&prop=imageinfo&iilimit=max\n",
    "    ret  = mw.get(action='query', titles=img_name_f, prop='imageinfo', iilimit='max')\n",
    "    imgs = ret['query']['pages']\n",
    "    img_key = list(iter(imgs.keys()))[0]\n",
    "    if img_key == '-1':\n",
    "        return pd.DataFrame([float('nan')])\n",
    "    versions = imgs[img_key]['imageinfo']\n",
    "    for version in versions:\n",
    "        version['timestamp'] = datetime.strptime(version['timestamp'], '%Y-%m-%dT%H:%M:%SZ')\n",
    "    sorted_versions = sorted(versions, key=lambda d: d['timestamp'])\n",
    "    original_uploader = sorted_versions[0]['user']\n",
    "    original_uploader_df = pd.DataFrame([original_uploader])\n",
    "    return original_uploader_df\n",
    "\n",
    "def get_original_uploader_wrapper(img_name):\n",
    "    return get_original_uploader(img_name).iloc[0][0]"
   ]
  },
  {
   "cell_type": "code",
   "execution_count": 31,
   "metadata": {},
   "outputs": [
    {
     "data": {
      "text/plain": [
       "(47063, 4)"
      ]
     },
     "execution_count": 31,
     "metadata": {},
     "output_type": "execute_result"
    }
   ],
   "source": [
    "images.shape"
   ]
  },
  {
   "cell_type": "code",
   "execution_count": 32,
   "metadata": {},
   "outputs": [
    {
     "data": {
      "text/html": [
       "<div>\n",
       "<style scoped>\n",
       "    .dataframe tbody tr th:only-of-type {\n",
       "        vertical-align: middle;\n",
       "    }\n",
       "\n",
       "    .dataframe tbody tr th {\n",
       "        vertical-align: top;\n",
       "    }\n",
       "\n",
       "    .dataframe thead th {\n",
       "        text-align: right;\n",
       "    }\n",
       "</style>\n",
       "<table border=\"1\" class=\"dataframe\">\n",
       "  <thead>\n",
       "    <tr style=\"text-align: right;\">\n",
       "      <th></th>\n",
       "      <th>user_name</th>\n",
       "      <th>user_id</th>\n",
       "      <th>img_name</th>\n",
       "      <th>year</th>\n",
       "    </tr>\n",
       "  </thead>\n",
       "  <tbody>\n",
       "    <tr>\n",
       "      <th>0</th>\n",
       "      <td>Islahaddow</td>\n",
       "      <td>1499491</td>\n",
       "      <td>Wiki_Loves_Africa.pdf</td>\n",
       "      <td>2014</td>\n",
       "    </tr>\n",
       "  </tbody>\n",
       "</table>\n",
       "</div>"
      ],
      "text/plain": [
       "    user_name  user_id               img_name  year\n",
       "0  Islahaddow  1499491  Wiki_Loves_Africa.pdf  2014"
      ]
     },
     "execution_count": 32,
     "metadata": {},
     "output_type": "execute_result"
    }
   ],
   "source": [
    "images.head(1)"
   ]
  },
  {
   "cell_type": "code",
   "execution_count": 33,
   "metadata": {},
   "outputs": [],
   "source": [
    "images_sm = images[:1000]"
   ]
  },
  {
   "cell_type": "code",
   "execution_count": 34,
   "metadata": {
    "scrolled": true
   },
   "outputs": [
    {
     "name": "stdout",
     "output_type": "stream",
     "text": [
      "CPU times: user 5 µs, sys: 1 µs, total: 6 µs\n",
      "Wall time: 9.3 µs\n"
     ]
    },
    {
     "name": "stderr",
     "output_type": "stream",
     "text": [
      "/home/paprika/.local/share/virtualenvs/civilservant-wla-wKX6CekY/lib/python3.7/site-packages/ipykernel_launcher.py:2: SettingWithCopyWarning: \n",
      "A value is trying to be set on a copy of a slice from a DataFrame.\n",
      "Try using .loc[row_indexer,col_indexer] = value instead\n",
      "\n",
      "See the caveats in the documentation: http://pandas.pydata.org/pandas-docs/stable/user_guide/indexing.html#returning-a-view-versus-a-copy\n",
      "  \n"
     ]
    }
   ],
   "source": [
    "%time\n",
    "images_sm['original_uploader_df'] = images_sm['img_name'].apply(get_original_uploader_wrapper)"
   ]
  },
  {
   "cell_type": "code",
   "execution_count": 38,
   "metadata": {},
   "outputs": [],
   "source": [
    "images['original_uploader'] = images['img_name'].apply(get_original_uploader_wrapper)"
   ]
  },
  {
   "cell_type": "code",
   "execution_count": 41,
   "metadata": {},
   "outputs": [],
   "source": [
    "images['misattribution_error'] = images['user_name'] != images['original_uploader']"
   ]
  },
  {
   "cell_type": "code",
   "execution_count": 44,
   "metadata": {},
   "outputs": [
    {
     "data": {
      "text/plain": [
       "False    45765\n",
       "True      1298\n",
       "Name: misattribution_error, dtype: int64"
      ]
     },
     "execution_count": 44,
     "metadata": {},
     "output_type": "execute_result"
    }
   ],
   "source": [
    "images['misattribution_error'].value_counts()"
   ]
  },
  {
   "cell_type": "code",
   "execution_count": 45,
   "metadata": {},
   "outputs": [],
   "source": [
    "misattributed = images[images['misattribution_error']]"
   ]
  },
  {
   "cell_type": "code",
   "execution_count": 47,
   "metadata": {},
   "outputs": [
    {
     "data": {
      "text/html": [
       "<div>\n",
       "<style scoped>\n",
       "    .dataframe tbody tr th:only-of-type {\n",
       "        vertical-align: middle;\n",
       "    }\n",
       "\n",
       "    .dataframe tbody tr th {\n",
       "        vertical-align: top;\n",
       "    }\n",
       "\n",
       "    .dataframe thead th {\n",
       "        text-align: right;\n",
       "    }\n",
       "</style>\n",
       "<table border=\"1\" class=\"dataframe\">\n",
       "  <thead>\n",
       "    <tr style=\"text-align: right;\">\n",
       "      <th></th>\n",
       "      <th>user_name</th>\n",
       "      <th>user_id</th>\n",
       "      <th>img_name</th>\n",
       "      <th>year</th>\n",
       "      <th>original_uploader_df</th>\n",
       "      <th>original_uploader</th>\n",
       "      <th>misattribution_error</th>\n",
       "    </tr>\n",
       "  </thead>\n",
       "  <tbody>\n",
       "    <tr>\n",
       "      <th>50</th>\n",
       "      <td>SteinsplitterBot</td>\n",
       "      <td>3714013</td>\n",
       "      <td>Fried_Rice,_Jollof_rice_and_salad,_served_with...</td>\n",
       "      <td>2014</td>\n",
       "      <td>Justdifference</td>\n",
       "      <td>Justdifference</td>\n",
       "      <td>True</td>\n",
       "    </tr>\n",
       "    <tr>\n",
       "      <th>51</th>\n",
       "      <td>SteinsplitterBot</td>\n",
       "      <td>3714013</td>\n",
       "      <td>Jamaican_Sauce_served_with_Boiled_Yam,_fried_r...</td>\n",
       "      <td>2014</td>\n",
       "      <td>Justdifference</td>\n",
       "      <td>Justdifference</td>\n",
       "      <td>True</td>\n",
       "    </tr>\n",
       "    <tr>\n",
       "      <th>92</th>\n",
       "      <td>Reda Kerbouche</td>\n",
       "      <td>983191</td>\n",
       "      <td>Rabbit_Grilled_from_Algeria.JPG</td>\n",
       "      <td>2014</td>\n",
       "      <td>Nasimanilsen25</td>\n",
       "      <td>Nasimanilsen25</td>\n",
       "      <td>True</td>\n",
       "    </tr>\n",
       "    <tr>\n",
       "      <th>146</th>\n",
       "      <td>Ji-Elle</td>\n",
       "      <td>30885</td>\n",
       "      <td>Dried_Beans.jpg</td>\n",
       "      <td>2014</td>\n",
       "      <td>Gushadumi</td>\n",
       "      <td>Gushadumi</td>\n",
       "      <td>True</td>\n",
       "    </tr>\n",
       "    <tr>\n",
       "      <th>148</th>\n",
       "      <td>Ji-Elle</td>\n",
       "      <td>30885</td>\n",
       "      <td>Dried_Vegetables_in_Zambia.jpg</td>\n",
       "      <td>2014</td>\n",
       "      <td>Gushadumi</td>\n",
       "      <td>Gushadumi</td>\n",
       "      <td>True</td>\n",
       "    </tr>\n",
       "  </tbody>\n",
       "</table>\n",
       "</div>"
      ],
      "text/plain": [
       "            user_name  user_id  \\\n",
       "50   SteinsplitterBot  3714013   \n",
       "51   SteinsplitterBot  3714013   \n",
       "92     Reda Kerbouche   983191   \n",
       "146           Ji-Elle    30885   \n",
       "148           Ji-Elle    30885   \n",
       "\n",
       "                                              img_name  year  \\\n",
       "50   Fried_Rice,_Jollof_rice_and_salad,_served_with...  2014   \n",
       "51   Jamaican_Sauce_served_with_Boiled_Yam,_fried_r...  2014   \n",
       "92                     Rabbit_Grilled_from_Algeria.JPG  2014   \n",
       "146                                    Dried_Beans.jpg  2014   \n",
       "148                     Dried_Vegetables_in_Zambia.jpg  2014   \n",
       "\n",
       "    original_uploader_df original_uploader  misattribution_error  \n",
       "50        Justdifference    Justdifference                  True  \n",
       "51        Justdifference    Justdifference                  True  \n",
       "92        Nasimanilsen25    Nasimanilsen25                  True  \n",
       "146            Gushadumi         Gushadumi                  True  \n",
       "148            Gushadumi         Gushadumi                  True  "
      ]
     },
     "execution_count": 47,
     "metadata": {},
     "output_type": "execute_result"
    }
   ],
   "source": [
    "misattributed.head()"
   ]
  },
  {
   "cell_type": "code",
   "execution_count": 60,
   "metadata": {},
   "outputs": [],
   "source": [
    "all_users = set(images['user_name'])\n",
    "got_attrib = set(misattributed['user_name'])\n",
    "un_attrib = set(misattributed['original_uploader'])"
   ]
  },
  {
   "cell_type": "code",
   "execution_count": 59,
   "metadata": {},
   "outputs": [
    {
     "data": {
      "text/plain": [
       "377"
      ]
     },
     "execution_count": 59,
     "metadata": {},
     "output_type": "execute_result"
    }
   ],
   "source": [
    "len(un_attrib)"
   ]
  },
  {
   "cell_type": "code",
   "execution_count": 62,
   "metadata": {},
   "outputs": [
    {
     "data": {
      "text/plain": [
       "82"
      ]
     },
     "execution_count": 62,
     "metadata": {},
     "output_type": "execute_result"
    }
   ],
   "source": [
    "len(un_attrib - all_users)"
   ]
  },
  {
   "cell_type": "code",
   "execution_count": 68,
   "metadata": {},
   "outputs": [
    {
     "data": {
      "text/plain": [
       "295"
      ]
     },
     "execution_count": 68,
     "metadata": {},
     "output_type": "execute_result"
    }
   ],
   "source": [
    "## who didn't get attributed for some reason but still got an invite for another reason\n",
    "len(un_attrib.intersection(all_users))"
   ]
  },
  {
   "cell_type": "code",
   "execution_count": 70,
   "metadata": {},
   "outputs": [
    {
     "data": {
      "text/plain": [
       "53"
      ]
     },
     "execution_count": 70,
     "metadata": {},
     "output_type": "execute_result"
    }
   ],
   "source": [
    "len(got_attrib)"
   ]
  },
  {
   "cell_type": "code",
   "execution_count": 69,
   "metadata": {},
   "outputs": [
    {
     "data": {
      "text/plain": [
       "0"
      ]
     },
     "execution_count": 69,
     "metadata": {},
     "output_type": "execute_result"
    }
   ],
   "source": [
    "# who got an invite for stealing an attribution but shouldnt have\n",
    "len(got_attrib - all_users)"
   ]
  },
  {
   "cell_type": "code",
   "execution_count": 71,
   "metadata": {},
   "outputs": [
    {
     "data": {
      "text/plain": [
       "53"
      ]
     },
     "execution_count": 71,
     "metadata": {},
     "output_type": "execute_result"
    }
   ],
   "source": [
    "len(got_attrib.intersection(all_users))"
   ]
  },
  {
   "cell_type": "code",
   "execution_count": 66,
   "metadata": {},
   "outputs": [
    {
     "data": {
      "text/html": [
       "<div>\n",
       "<style scoped>\n",
       "    .dataframe tbody tr th:only-of-type {\n",
       "        vertical-align: middle;\n",
       "    }\n",
       "\n",
       "    .dataframe tbody tr th {\n",
       "        vertical-align: top;\n",
       "    }\n",
       "\n",
       "    .dataframe thead th {\n",
       "        text-align: right;\n",
       "    }\n",
       "</style>\n",
       "<table border=\"1\" class=\"dataframe\">\n",
       "  <thead>\n",
       "    <tr style=\"text-align: right;\">\n",
       "      <th></th>\n",
       "      <th>user_name</th>\n",
       "      <th>user_id</th>\n",
       "      <th>img_name</th>\n",
       "      <th>year</th>\n",
       "      <th>original_uploader_df</th>\n",
       "      <th>original_uploader</th>\n",
       "      <th>misattribution_error</th>\n",
       "    </tr>\n",
       "  </thead>\n",
       "  <tbody>\n",
       "    <tr>\n",
       "      <th>32988</th>\n",
       "      <td>ABDOULWAHABDIAK</td>\n",
       "      <td>6917496</td>\n",
       "      <td>ABDOULWAHABDIAK_(1).jpg</td>\n",
       "      <td>2017</td>\n",
       "      <td>ABDOULWAHABDIAK</td>\n",
       "      <td>ABDOULWAHABDIAK</td>\n",
       "      <td>False</td>\n",
       "    </tr>\n",
       "    <tr>\n",
       "      <th>32989</th>\n",
       "      <td>ABDOULWAHABDIAK</td>\n",
       "      <td>6917496</td>\n",
       "      <td>ABDOULWAHABDIAK_(2).jpg</td>\n",
       "      <td>2017</td>\n",
       "      <td>ABDOULWAHABDIAK</td>\n",
       "      <td>ABDOULWAHABDIAK</td>\n",
       "      <td>False</td>\n",
       "    </tr>\n",
       "    <tr>\n",
       "      <th>32990</th>\n",
       "      <td>SteinsplitterBot</td>\n",
       "      <td>3714013</td>\n",
       "      <td>ABDOULWAHABDIAK_(3).jpg</td>\n",
       "      <td>2017</td>\n",
       "      <td>ABDOULWAHABDIAK</td>\n",
       "      <td>ABDOULWAHABDIAK</td>\n",
       "      <td>True</td>\n",
       "    </tr>\n",
       "    <tr>\n",
       "      <th>32991</th>\n",
       "      <td>SteinsplitterBot</td>\n",
       "      <td>3714013</td>\n",
       "      <td>ABDOULWAHABDIAK_(5).jpg</td>\n",
       "      <td>2017</td>\n",
       "      <td>ABDOULWAHABDIAK</td>\n",
       "      <td>ABDOULWAHABDIAK</td>\n",
       "      <td>True</td>\n",
       "    </tr>\n",
       "    <tr>\n",
       "      <th>32992</th>\n",
       "      <td>SteinsplitterBot</td>\n",
       "      <td>3714013</td>\n",
       "      <td>ABDOULWAHABDIAK_(4).jpg</td>\n",
       "      <td>2017</td>\n",
       "      <td>ABDOULWAHABDIAK</td>\n",
       "      <td>ABDOULWAHABDIAK</td>\n",
       "      <td>True</td>\n",
       "    </tr>\n",
       "    <tr>\n",
       "      <th>32993</th>\n",
       "      <td>ABDOULWAHABDIAK</td>\n",
       "      <td>6917496</td>\n",
       "      <td>ABDOULWAHABDIAK_(6).jpg</td>\n",
       "      <td>2017</td>\n",
       "      <td>ABDOULWAHABDIAK</td>\n",
       "      <td>ABDOULWAHABDIAK</td>\n",
       "      <td>False</td>\n",
       "    </tr>\n",
       "    <tr>\n",
       "      <th>32994</th>\n",
       "      <td>ABDOULWAHABDIAK</td>\n",
       "      <td>6917496</td>\n",
       "      <td>ABDOULWAHABDIAK_(7).jpg</td>\n",
       "      <td>2017</td>\n",
       "      <td>ABDOULWAHABDIAK</td>\n",
       "      <td>ABDOULWAHABDIAK</td>\n",
       "      <td>False</td>\n",
       "    </tr>\n",
       "    <tr>\n",
       "      <th>32995</th>\n",
       "      <td>ABDOULWAHABDIAK</td>\n",
       "      <td>6917496</td>\n",
       "      <td>ABDOULWAHABDIAK_(8).jpg</td>\n",
       "      <td>2017</td>\n",
       "      <td>ABDOULWAHABDIAK</td>\n",
       "      <td>ABDOULWAHABDIAK</td>\n",
       "      <td>False</td>\n",
       "    </tr>\n",
       "  </tbody>\n",
       "</table>\n",
       "</div>"
      ],
      "text/plain": [
       "              user_name  user_id                 img_name  year  \\\n",
       "32988   ABDOULWAHABDIAK  6917496  ABDOULWAHABDIAK_(1).jpg  2017   \n",
       "32989   ABDOULWAHABDIAK  6917496  ABDOULWAHABDIAK_(2).jpg  2017   \n",
       "32990  SteinsplitterBot  3714013  ABDOULWAHABDIAK_(3).jpg  2017   \n",
       "32991  SteinsplitterBot  3714013  ABDOULWAHABDIAK_(5).jpg  2017   \n",
       "32992  SteinsplitterBot  3714013  ABDOULWAHABDIAK_(4).jpg  2017   \n",
       "32993   ABDOULWAHABDIAK  6917496  ABDOULWAHABDIAK_(6).jpg  2017   \n",
       "32994   ABDOULWAHABDIAK  6917496  ABDOULWAHABDIAK_(7).jpg  2017   \n",
       "32995   ABDOULWAHABDIAK  6917496  ABDOULWAHABDIAK_(8).jpg  2017   \n",
       "\n",
       "      original_uploader_df original_uploader  misattribution_error  \n",
       "32988      ABDOULWAHABDIAK   ABDOULWAHABDIAK                 False  \n",
       "32989      ABDOULWAHABDIAK   ABDOULWAHABDIAK                 False  \n",
       "32990      ABDOULWAHABDIAK   ABDOULWAHABDIAK                  True  \n",
       "32991      ABDOULWAHABDIAK   ABDOULWAHABDIAK                  True  \n",
       "32992      ABDOULWAHABDIAK   ABDOULWAHABDIAK                  True  \n",
       "32993      ABDOULWAHABDIAK   ABDOULWAHABDIAK                 False  \n",
       "32994      ABDOULWAHABDIAK   ABDOULWAHABDIAK                 False  \n",
       "32995      ABDOULWAHABDIAK   ABDOULWAHABDIAK                 False  "
      ]
     },
     "execution_count": 66,
     "metadata": {},
     "output_type": "execute_result"
    }
   ],
   "source": [
    "images[images['original_uploader']=='ABDOULWAHABDIAK']"
   ]
  },
  {
   "cell_type": "code",
   "execution_count": 73,
   "metadata": {},
   "outputs": [
    {
     "data": {
      "text/html": [
       "<div>\n",
       "<style scoped>\n",
       "    .dataframe tbody tr th:only-of-type {\n",
       "        vertical-align: middle;\n",
       "    }\n",
       "\n",
       "    .dataframe tbody tr th {\n",
       "        vertical-align: top;\n",
       "    }\n",
       "\n",
       "    .dataframe thead th {\n",
       "        text-align: right;\n",
       "    }\n",
       "</style>\n",
       "<table border=\"1\" class=\"dataframe\">\n",
       "  <thead>\n",
       "    <tr style=\"text-align: right;\">\n",
       "      <th></th>\n",
       "      <th>user_name</th>\n",
       "      <th>user_id</th>\n",
       "      <th>img_name</th>\n",
       "      <th>year</th>\n",
       "      <th>original_uploader_df</th>\n",
       "      <th>original_uploader</th>\n",
       "      <th>misattribution_error</th>\n",
       "    </tr>\n",
       "  </thead>\n",
       "  <tbody>\n",
       "  </tbody>\n",
       "</table>\n",
       "</div>"
      ],
      "text/plain": [
       "Empty DataFrame\n",
       "Columns: [user_name, user_id, img_name, year, original_uploader_df, original_uploader, misattribution_error]\n",
       "Index: []"
      ]
     },
     "execution_count": 73,
     "metadata": {},
     "output_type": "execute_result"
    }
   ],
   "source": [
    "images[images['original_uploader']=='Embedded Data Bot']"
   ]
  },
  {
   "cell_type": "code",
   "execution_count": 72,
   "metadata": {},
   "outputs": [
    {
     "data": {
      "text/plain": [
       "user_name\n",
       "Embedded Data Bot    762\n",
       "SteinsplitterBot     266\n",
       "Ji-Elle               83\n",
       "Moumou82              77\n",
       "Jdx                   22\n",
       "FlickreviewR 2        18\n",
       "Dyolf77                8\n",
       "TOUMOU                 8\n",
       "Reda Kerbouche         4\n",
       "GTaliska               3\n",
       "dtype: int64"
      ]
     },
     "execution_count": 72,
     "metadata": {},
     "output_type": "execute_result"
    }
   ],
   "source": [
    "misattributed.groupby('user_name').size().sort_values(ascending=False).head(10)"
   ]
  },
  {
   "cell_type": "code",
   "execution_count": null,
   "metadata": {},
   "outputs": [],
   "source": []
  }
 ],
 "metadata": {
  "kernelspec": {
   "display_name": "Python 3",
   "language": "python",
   "name": "python3"
  },
  "language_info": {
   "codemirror_mode": {
    "name": "ipython",
    "version": 3
   },
   "file_extension": ".py",
   "mimetype": "text/x-python",
   "name": "python",
   "nbconvert_exporter": "python",
   "pygments_lexer": "ipython3",
   "version": "3.7.3"
  }
 },
 "nbformat": 4,
 "nbformat_minor": 2
}
