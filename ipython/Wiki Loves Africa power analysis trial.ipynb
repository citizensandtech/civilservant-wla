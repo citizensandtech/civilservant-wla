{
 "cells": [
  {
   "cell_type": "markdown",
   "metadata": {},
   "source": [
    "Wiki Loves Africa Power Analysis\n",
    "Trial written by Julia Kamin for tutoriat with John-Henry and Max"
   ]
  },
  {
   "cell_type": "code",
   "execution_count": 79,
   "metadata": {},
   "outputs": [
    {
     "data": {
      "text/plain": [
       "R version 3.5.1 (2018-07-02)\n",
       "Platform: x86_64-pc-linux-gnu (64-bit)\n",
       "Running under: Ubuntu 16.04.5 LTS\n",
       "\n",
       "Matrix products: default\n",
       "BLAS: /usr/lib/libblas/libblas.so.3.6.0\n",
       "LAPACK: /usr/lib/lapack/liblapack.so.3.6.0\n",
       "\n",
       "locale:\n",
       " [1] LC_CTYPE=en_US.UTF-8       LC_NUMERIC=C              \n",
       " [3] LC_TIME=en_US.UTF-8        LC_COLLATE=en_US.UTF-8    \n",
       " [5] LC_MONETARY=en_US.UTF-8    LC_MESSAGES=en_US.UTF-8   \n",
       " [7] LC_PAPER=en_US.UTF-8       LC_NAME=C                 \n",
       " [9] LC_ADDRESS=C               LC_TELEPHONE=C            \n",
       "[11] LC_MEASUREMENT=en_US.UTF-8 LC_IDENTIFICATION=C       \n",
       "\n",
       "attached base packages:\n",
       "[1] stats     graphics  grDevices utils     datasets  methods   base     \n",
       "\n",
       "other attached packages:\n",
       " [1] survival_2.43-3      survminer_0.4.3      ggpubr_0.2          \n",
       " [4] magrittr_1.5         beepr_1.3            blockTools_0.6-3    \n",
       " [7] DeclareDesign_0.12.0 randomizr_0.16.1     estimatr_0.14       \n",
       "[10] fabricatr_0.6.0      viridis_0.5.1        viridisLite_0.3.0   \n",
       "[13] forcats_0.3.0        stringr_1.3.1        purrr_0.2.5         \n",
       "[16] readr_1.2.1          tidyr_0.8.2          tibble_1.4.2        \n",
       "[19] tidyverse_1.2.1      gmodels_2.18.1       rlang_0.3.0.1       \n",
       "[22] ggplot2_3.1.0        MASS_7.3-51.1        dplyr_0.7.8         \n",
       "\n",
       "loaded via a namespace (and not attached):\n",
       " [1] httr_1.3.1        jsonlite_1.6      splines_3.5.1     modelr_0.1.2     \n",
       " [5] gtools_3.8.1      Formula_1.2-3     assertthat_0.2.0  cellranger_1.1.0 \n",
       " [9] pillar_1.3.0      backports_1.1.2   lattice_0.20-38   glue_1.3.0       \n",
       "[13] uuid_0.1-2        digest_0.6.18     rvest_0.3.2       colorspace_1.3-2 \n",
       "[17] cmprsk_2.2-7      htmltools_0.3.6   Matrix_1.2-15     plyr_1.8.4       \n",
       "[21] pkgconfig_2.0.2   broom_0.5.1       haven_2.0.0       xtable_1.8-3     \n",
       "[25] scales_1.0.0      gdata_2.18.0      km.ci_0.5-2       KMsurv_0.1-5     \n",
       "[29] generics_0.0.2    withr_2.1.2       repr_0.18         lazyeval_0.2.1   \n",
       "[33] cli_1.0.1         crayon_1.3.4      readxl_1.1.0      evaluate_0.12    \n",
       "[37] nlme_3.1-137      xml2_1.2.0        data.table_1.12.0 tools_3.5.1      \n",
       "[41] hms_0.4.2         munsell_0.5.0     bindrcpp_0.2.2    compiler_3.5.1   \n",
       "[45] grid_3.5.1        pbdZMQ_0.3-3      IRkernel_0.8.14   rstudioapi_0.8   \n",
       "[49] base64enc_0.1-3   gtable_0.2.0      R6_2.3.0          zoo_1.8-4        \n",
       "[53] gridExtra_2.3     lubridate_1.7.4   knitr_1.20        survMisc_0.5.5   \n",
       "[57] bindr_0.1.1       stringi_1.2.4     IRdisplay_0.7.0   Rcpp_1.0.0       \n",
       "[61] audio_0.1-6       tidyselect_0.2.5 "
      ]
     },
     "metadata": {},
     "output_type": "display_data"
    }
   ],
   "source": [
    "# LOAD LIBRARIES\n",
    "options(\"scipen\"=9, \"digits\"=4)\n",
    "library(dplyr)\n",
    "library(MASS)\n",
    "library(ggplot2)\n",
    "library(rlang)\n",
    "library(gmodels)\n",
    "library(tidyverse)\n",
    "library(viridis)\n",
    "library(fabricatr)\n",
    "library(estimatr)\n",
    "library(DeclareDesign)\n",
    "library(blockTools)\n",
    "library(beepr)\n",
    "## Installed DeclareDesign 0.13 using the following command:\n",
    "# install.packages(\"DeclareDesign\", dependencies = TRUE,\n",
    "#                 repos = c(\"http://R.declaredesign.org\", \"https://cloud.r-project.org\"))\n",
    "\n",
    "library(survminer)\n",
    "library(survival)\n",
    "## ^^ documentation: https://cran.r-project.org/web/packages/survminer/vignettes/Informative_Survival_Plots.html\n",
    "\n",
    "## DOCUMENTATION AT: https://cran.r-project.org/web/packages/DeclareDesign/DeclareDesign.pdf\n",
    "cbPalette <- c(\"#999999\", \"#E69F00\", \"#56B4E9\", \"#009E73\", \"#F0E442\", \"#0072B2\", \"#D55E00\", \"#CC79A7\")\n",
    "options(repr.plot.width=7, repr.plot.height=3.5)\n",
    "sessionInfo()"
   ]
  },
  {
   "cell_type": "code",
   "execution_count": 2,
   "metadata": {},
   "outputs": [],
   "source": [
    "data.path <- \"/home/civilservant/Tresors/CivilServant/projects/wikipedia-integration/wikipedia-loves-africa/pre-pipeline-2018-analysis\"\n",
    "wla.df <- read.csv(file.path(data.path, \"power-analysis-2016-vs-2017.csv\"))"
   ]
  },
  {
   "cell_type": "code",
   "execution_count": 101,
   "metadata": {},
   "outputs": [
    {
     "data": {
      "text/plain": [
       "   img_actor       total_transfers_2016_and_earlier\n",
       " Min.   :     13   Min.   :      2                 \n",
       " 1st Qu.:4344960   1st Qu.:   1086                 \n",
       " Median :4465896   Median :   2726                 \n",
       " Mean   :4752278   Mean   :  35661                 \n",
       " 3rd Qu.:5500333   3rd Qu.:  10457                 \n",
       " Max.   :6460352   Max.   :4595341                 \n",
       "                                                   \n",
       " images_contributed_2016_and_earlier total_transfers_2017\n",
       " Min.   :   1.0                      Min.   :  140       \n",
       " 1st Qu.:   1.0                      1st Qu.: 2052       \n",
       " Median :   2.0                      Median : 4825       \n",
       " Mean   :   7.4                      Mean   : 9734       \n",
       " 3rd Qu.:   5.0                      3rd Qu.:14014       \n",
       " Max.   :1113.0                      Max.   :82605       \n",
       "                                     NA's   :1674        \n",
       " images_contributed_2017 first_time   didnt_return   return    \n",
       " Min.   :  1.0           False:1736   False:  62   False:1674  \n",
       " 1st Qu.:  3.5           True :   0   True :1674   True :  62  \n",
       " Median : 17.0                                                 \n",
       " Mean   : 36.3                                                 \n",
       " 3rd Qu.: 46.0                                                 \n",
       " Max.   :226.0                                                 \n",
       " NA's   :1674                                                  \n",
       "   return.int    \n",
       " Min.   :0.0000  \n",
       " 1st Qu.:0.0000  \n",
       " Median :0.0000  \n",
       " Mean   :0.0357  \n",
       " 3rd Qu.:0.0000  \n",
       " Max.   :1.0000  \n",
       "                 "
      ]
     },
     "metadata": {},
     "output_type": "display_data"
    }
   ],
   "source": [
    "summary(wla.df)"
   ]
  },
  {
   "cell_type": "code",
   "execution_count": 102,
   "metadata": {},
   "outputs": [],
   "source": [
    "## remove first timers\n",
    "wla.df <- subset(wla.df, first_time == \"False\")"
   ]
  },
  {
   "cell_type": "code",
   "execution_count": 103,
   "metadata": {},
   "outputs": [],
   "source": [
    "# make return binary\n",
    "wla.df$return.int <- ifelse(wla.df$return == \"True\",1,0)"
   ]
  },
  {
   "cell_type": "code",
   "execution_count": 104,
   "metadata": {},
   "outputs": [
    {
     "data": {
      "text/html": [
       "0.0357142857142857"
      ],
      "text/latex": [
       "0.0357142857142857"
      ],
      "text/markdown": [
       "0.0357142857142857"
      ],
      "text/plain": [
       "[1] 0.03571"
      ]
     },
     "metadata": {},
     "output_type": "display_data"
    }
   ],
   "source": [
    "mean(wla.df$return.int)"
   ]
  },
  {
   "cell_type": "code",
   "execution_count": 105,
   "metadata": {},
   "outputs": [
    {
     "data": {
      "text/html": [
       "0.185630344902277"
      ],
      "text/latex": [
       "0.185630344902277"
      ],
      "text/markdown": [
       "0.185630344902277"
      ],
      "text/plain": [
       "[1] 0.1856"
      ]
     },
     "metadata": {},
     "output_type": "display_data"
    }
   ],
   "source": [
    "sd(wla.df$return.int)"
   ]
  },
  {
   "cell_type": "code",
   "execution_count": 106,
   "metadata": {},
   "outputs": [
    {
     "data": {
      "text/plain": [
       "      ID            return.participate\n",
       " Length:100         Min.   :0.00      \n",
       " Class :character   1st Qu.:0.00      \n",
       " Mode  :character   Median :0.00      \n",
       "                    Mean   :0.06      \n",
       "                    3rd Qu.:0.00      \n",
       "                    Max.   :1.00      "
      ]
     },
     "metadata": {},
     "output_type": "display_data"
    }
   ],
   "source": [
    "N = 100\n",
    "mean.part = mean(wla.df$return.int)\n",
    "population <- \n",
    "  declare_population(N = N,\n",
    "                     return.participate = rbinom(n = N, 1, mean.part)) \n",
    "\n",
    "\n",
    "df1 <- population()\n",
    "\n",
    "summary(df1)"
   ]
  },
  {
   "cell_type": "code",
   "execution_count": 65,
   "metadata": {},
   "outputs": [
    {
     "data": {
      "text/plain": [
       "   Min. 1st Qu.  Median    Mean 3rd Qu.    Max. \n",
       "   0.00    0.00    0.00    0.05    0.00    1.00 "
      ]
     },
     "metadata": {},
     "output_type": "display_data"
    }
   ],
   "source": [
    "return.participate = df1$return.participate\n",
    "summary(return.participate)"
   ]
  },
  {
   "cell_type": "code",
   "execution_count": 107,
   "metadata": {},
   "outputs": [
    {
     "data": {
      "text/html": [
       "<table>\n",
       "<thead><tr><th scope=col>ID</th><th scope=col>return.participate</th><th scope=col>Y_Z_0</th><th scope=col>Y_Z_1</th></tr></thead>\n",
       "<tbody>\n",
       "\t<tr><td>001</td><td>0  </td><td>0  </td><td>0  </td></tr>\n",
       "\t<tr><td>002</td><td>0  </td><td>0  </td><td>0  </td></tr>\n",
       "\t<tr><td>003</td><td>0  </td><td>0  </td><td>0  </td></tr>\n",
       "\t<tr><td>004</td><td>0  </td><td>0  </td><td>0  </td></tr>\n",
       "\t<tr><td>005</td><td>0  </td><td>0  </td><td>0  </td></tr>\n",
       "\t<tr><td>006</td><td>1  </td><td>1  </td><td>1  </td></tr>\n",
       "\t<tr><td>007</td><td>1  </td><td>1  </td><td>1  </td></tr>\n",
       "\t<tr><td>008</td><td>0  </td><td>0  </td><td>0  </td></tr>\n",
       "\t<tr><td>009</td><td>0  </td><td>0  </td><td>0  </td></tr>\n",
       "\t<tr><td>010</td><td>0  </td><td>0  </td><td>0  </td></tr>\n",
       "</tbody>\n",
       "</table>\n"
      ],
      "text/latex": [
       "\\begin{tabular}{r|llll}\n",
       " ID & return.participate & Y\\_Z\\_0 & Y\\_Z\\_1\\\\\n",
       "\\hline\n",
       "\t 001 & 0   & 0   & 0  \\\\\n",
       "\t 002 & 0   & 0   & 0  \\\\\n",
       "\t 003 & 0   & 0   & 0  \\\\\n",
       "\t 004 & 0   & 0   & 0  \\\\\n",
       "\t 005 & 0   & 0   & 0  \\\\\n",
       "\t 006 & 1   & 1   & 1  \\\\\n",
       "\t 007 & 1   & 1   & 1  \\\\\n",
       "\t 008 & 0   & 0   & 0  \\\\\n",
       "\t 009 & 0   & 0   & 0  \\\\\n",
       "\t 010 & 0   & 0   & 0  \\\\\n",
       "\\end{tabular}\n"
      ],
      "text/markdown": [
       "\n",
       "ID | return.participate | Y_Z_0 | Y_Z_1 | \n",
       "|---|---|---|---|---|---|---|---|---|---|\n",
       "| 001 | 0   | 0   | 0   | \n",
       "| 002 | 0   | 0   | 0   | \n",
       "| 003 | 0   | 0   | 0   | \n",
       "| 004 | 0   | 0   | 0   | \n",
       "| 005 | 0   | 0   | 0   | \n",
       "| 006 | 1   | 1   | 1   | \n",
       "| 007 | 1   | 1   | 1   | \n",
       "| 008 | 0   | 0   | 0   | \n",
       "| 009 | 0   | 0   | 0   | \n",
       "| 010 | 0   | 0   | 0   | \n",
       "\n",
       "\n"
      ],
      "text/plain": [
       "   ID  return.participate Y_Z_0 Y_Z_1\n",
       "1  001 0                  0     0    \n",
       "2  002 0                  0     0    \n",
       "3  003 0                  0     0    \n",
       "4  004 0                  0     0    \n",
       "5  005 0                  0     0    \n",
       "6  006 1                  1     1    \n",
       "7  007 1                  1     1    \n",
       "8  008 0                  0     0    \n",
       "9  009 0                  0     0    \n",
       "10 010 0                  0     0    "
      ]
     },
     "metadata": {},
     "output_type": "display_data"
    }
   ],
   "source": [
    "potential_outcomes <- declare_potential_outcomes(Y_Z_0 = return.participate, # the control group, here we expect business as usual \n",
    "                                                 Y_Z_1 = return.participate + \n",
    "                                                     ifelse(return.participate == 0, rbinom(100, 1, ate),0)) # the treatment group, business as usual + the productivity boost from coffee\n",
    "                                                 \n",
    "\n",
    "df1 <- potential_outcomes(df1)\n",
    "\n",
    "df1[1:10,]"
   ]
  },
  {
   "cell_type": "code",
   "execution_count": 108,
   "metadata": {},
   "outputs": [
    {
     "data": {
      "text/html": [
       "<table>\n",
       "<thead><tr><th scope=col>ID</th><th scope=col>return.participate</th><th scope=col>Y_Z_0</th><th scope=col>Y_Z_1</th><th scope=col>Z</th><th scope=col>Z_cond_prob</th></tr></thead>\n",
       "<tbody>\n",
       "\t<tr><td>001</td><td>0  </td><td>0  </td><td>0  </td><td>0  </td><td>0.5</td></tr>\n",
       "\t<tr><td>002</td><td>0  </td><td>0  </td><td>0  </td><td>0  </td><td>0.5</td></tr>\n",
       "\t<tr><td>003</td><td>0  </td><td>0  </td><td>0  </td><td>0  </td><td>0.5</td></tr>\n",
       "\t<tr><td>004</td><td>0  </td><td>0  </td><td>0  </td><td>1  </td><td>0.5</td></tr>\n",
       "\t<tr><td>005</td><td>0  </td><td>0  </td><td>0  </td><td>1  </td><td>0.5</td></tr>\n",
       "\t<tr><td>006</td><td>1  </td><td>1  </td><td>1  </td><td>1  </td><td>0.5</td></tr>\n",
       "\t<tr><td>007</td><td>1  </td><td>1  </td><td>1  </td><td>0  </td><td>0.5</td></tr>\n",
       "\t<tr><td>008</td><td>0  </td><td>0  </td><td>0  </td><td>0  </td><td>0.5</td></tr>\n",
       "\t<tr><td>009</td><td>0  </td><td>0  </td><td>0  </td><td>0  </td><td>0.5</td></tr>\n",
       "\t<tr><td>010</td><td>0  </td><td>0  </td><td>0  </td><td>1  </td><td>0.5</td></tr>\n",
       "</tbody>\n",
       "</table>\n"
      ],
      "text/latex": [
       "\\begin{tabular}{r|llllll}\n",
       " ID & return.participate & Y\\_Z\\_0 & Y\\_Z\\_1 & Z & Z\\_cond\\_prob\\\\\n",
       "\\hline\n",
       "\t 001 & 0   & 0   & 0   & 0   & 0.5\\\\\n",
       "\t 002 & 0   & 0   & 0   & 0   & 0.5\\\\\n",
       "\t 003 & 0   & 0   & 0   & 0   & 0.5\\\\\n",
       "\t 004 & 0   & 0   & 0   & 1   & 0.5\\\\\n",
       "\t 005 & 0   & 0   & 0   & 1   & 0.5\\\\\n",
       "\t 006 & 1   & 1   & 1   & 1   & 0.5\\\\\n",
       "\t 007 & 1   & 1   & 1   & 0   & 0.5\\\\\n",
       "\t 008 & 0   & 0   & 0   & 0   & 0.5\\\\\n",
       "\t 009 & 0   & 0   & 0   & 0   & 0.5\\\\\n",
       "\t 010 & 0   & 0   & 0   & 1   & 0.5\\\\\n",
       "\\end{tabular}\n"
      ],
      "text/markdown": [
       "\n",
       "ID | return.participate | Y_Z_0 | Y_Z_1 | Z | Z_cond_prob | \n",
       "|---|---|---|---|---|---|---|---|---|---|\n",
       "| 001 | 0   | 0   | 0   | 0   | 0.5 | \n",
       "| 002 | 0   | 0   | 0   | 0   | 0.5 | \n",
       "| 003 | 0   | 0   | 0   | 0   | 0.5 | \n",
       "| 004 | 0   | 0   | 0   | 1   | 0.5 | \n",
       "| 005 | 0   | 0   | 0   | 1   | 0.5 | \n",
       "| 006 | 1   | 1   | 1   | 1   | 0.5 | \n",
       "| 007 | 1   | 1   | 1   | 0   | 0.5 | \n",
       "| 008 | 0   | 0   | 0   | 0   | 0.5 | \n",
       "| 009 | 0   | 0   | 0   | 0   | 0.5 | \n",
       "| 010 | 0   | 0   | 0   | 1   | 0.5 | \n",
       "\n",
       "\n"
      ],
      "text/plain": [
       "   ID  return.participate Y_Z_0 Y_Z_1 Z Z_cond_prob\n",
       "1  001 0                  0     0     0 0.5        \n",
       "2  002 0                  0     0     0 0.5        \n",
       "3  003 0                  0     0     0 0.5        \n",
       "4  004 0                  0     0     1 0.5        \n",
       "5  005 0                  0     0     1 0.5        \n",
       "6  006 1                  1     1     1 0.5        \n",
       "7  007 1                  1     1     0 0.5        \n",
       "8  008 0                  0     0     0 0.5        \n",
       "9  009 0                  0     0     0 0.5        \n",
       "10 010 0                  0     0     1 0.5        "
      ]
     },
     "metadata": {},
     "output_type": "display_data"
    }
   ],
   "source": [
    "assignment <- declare_assignment(prob = .5, \n",
    "                                 assignment_variable = Z) # by the relevant part of columns to assign from, default assignment_variable = Z\n",
    "df1 <- assignment(df1)\n",
    "df1[1:10,]"
   ]
  },
  {
   "cell_type": "code",
   "execution_count": 109,
   "metadata": {},
   "outputs": [
    {
     "data": {
      "text/html": [
       "<table>\n",
       "<thead><tr><th scope=col>ID</th><th scope=col>return.participate</th><th scope=col>Y_Z_0</th><th scope=col>Y_Z_1</th><th scope=col>Z</th><th scope=col>Z_cond_prob</th><th scope=col>Y</th></tr></thead>\n",
       "<tbody>\n",
       "\t<tr><td>001</td><td>0  </td><td>0  </td><td>0  </td><td>0  </td><td>0.5</td><td>0  </td></tr>\n",
       "\t<tr><td>002</td><td>0  </td><td>0  </td><td>0  </td><td>0  </td><td>0.5</td><td>0  </td></tr>\n",
       "\t<tr><td>003</td><td>0  </td><td>0  </td><td>0  </td><td>0  </td><td>0.5</td><td>0  </td></tr>\n",
       "\t<tr><td>004</td><td>0  </td><td>0  </td><td>0  </td><td>1  </td><td>0.5</td><td>0  </td></tr>\n",
       "\t<tr><td>005</td><td>0  </td><td>0  </td><td>0  </td><td>1  </td><td>0.5</td><td>0  </td></tr>\n",
       "\t<tr><td>006</td><td>1  </td><td>1  </td><td>1  </td><td>1  </td><td>0.5</td><td>1  </td></tr>\n",
       "\t<tr><td>007</td><td>1  </td><td>1  </td><td>1  </td><td>0  </td><td>0.5</td><td>1  </td></tr>\n",
       "\t<tr><td>008</td><td>0  </td><td>0  </td><td>0  </td><td>0  </td><td>0.5</td><td>0  </td></tr>\n",
       "\t<tr><td>009</td><td>0  </td><td>0  </td><td>0  </td><td>0  </td><td>0.5</td><td>0  </td></tr>\n",
       "\t<tr><td>010</td><td>0  </td><td>0  </td><td>0  </td><td>1  </td><td>0.5</td><td>0  </td></tr>\n",
       "\t<tr><td>011</td><td>0  </td><td>0  </td><td>0  </td><td>1  </td><td>0.5</td><td>0  </td></tr>\n",
       "\t<tr><td>012</td><td>0  </td><td>0  </td><td>0  </td><td>0  </td><td>0.5</td><td>0  </td></tr>\n",
       "\t<tr><td>013</td><td>0  </td><td>0  </td><td>0  </td><td>0  </td><td>0.5</td><td>0  </td></tr>\n",
       "\t<tr><td>014</td><td>0  </td><td>0  </td><td>0  </td><td>1  </td><td>0.5</td><td>0  </td></tr>\n",
       "\t<tr><td>015</td><td>0  </td><td>0  </td><td>0  </td><td>0  </td><td>0.5</td><td>0  </td></tr>\n",
       "\t<tr><td>016</td><td>0  </td><td>0  </td><td>0  </td><td>0  </td><td>0.5</td><td>0  </td></tr>\n",
       "\t<tr><td>017</td><td>1  </td><td>1  </td><td>1  </td><td>0  </td><td>0.5</td><td>1  </td></tr>\n",
       "\t<tr><td>018</td><td>0  </td><td>0  </td><td>0  </td><td>1  </td><td>0.5</td><td>0  </td></tr>\n",
       "\t<tr><td>019</td><td>0  </td><td>0  </td><td>0  </td><td>0  </td><td>0.5</td><td>0  </td></tr>\n",
       "\t<tr><td>020</td><td>0  </td><td>0  </td><td>0  </td><td>1  </td><td>0.5</td><td>0  </td></tr>\n",
       "</tbody>\n",
       "</table>\n"
      ],
      "text/latex": [
       "\\begin{tabular}{r|lllllll}\n",
       " ID & return.participate & Y\\_Z\\_0 & Y\\_Z\\_1 & Z & Z\\_cond\\_prob & Y\\\\\n",
       "\\hline\n",
       "\t 001 & 0   & 0   & 0   & 0   & 0.5 & 0  \\\\\n",
       "\t 002 & 0   & 0   & 0   & 0   & 0.5 & 0  \\\\\n",
       "\t 003 & 0   & 0   & 0   & 0   & 0.5 & 0  \\\\\n",
       "\t 004 & 0   & 0   & 0   & 1   & 0.5 & 0  \\\\\n",
       "\t 005 & 0   & 0   & 0   & 1   & 0.5 & 0  \\\\\n",
       "\t 006 & 1   & 1   & 1   & 1   & 0.5 & 1  \\\\\n",
       "\t 007 & 1   & 1   & 1   & 0   & 0.5 & 1  \\\\\n",
       "\t 008 & 0   & 0   & 0   & 0   & 0.5 & 0  \\\\\n",
       "\t 009 & 0   & 0   & 0   & 0   & 0.5 & 0  \\\\\n",
       "\t 010 & 0   & 0   & 0   & 1   & 0.5 & 0  \\\\\n",
       "\t 011 & 0   & 0   & 0   & 1   & 0.5 & 0  \\\\\n",
       "\t 012 & 0   & 0   & 0   & 0   & 0.5 & 0  \\\\\n",
       "\t 013 & 0   & 0   & 0   & 0   & 0.5 & 0  \\\\\n",
       "\t 014 & 0   & 0   & 0   & 1   & 0.5 & 0  \\\\\n",
       "\t 015 & 0   & 0   & 0   & 0   & 0.5 & 0  \\\\\n",
       "\t 016 & 0   & 0   & 0   & 0   & 0.5 & 0  \\\\\n",
       "\t 017 & 1   & 1   & 1   & 0   & 0.5 & 1  \\\\\n",
       "\t 018 & 0   & 0   & 0   & 1   & 0.5 & 0  \\\\\n",
       "\t 019 & 0   & 0   & 0   & 0   & 0.5 & 0  \\\\\n",
       "\t 020 & 0   & 0   & 0   & 1   & 0.5 & 0  \\\\\n",
       "\\end{tabular}\n"
      ],
      "text/markdown": [
       "\n",
       "ID | return.participate | Y_Z_0 | Y_Z_1 | Z | Z_cond_prob | Y | \n",
       "|---|---|---|---|---|---|---|---|---|---|---|---|---|---|---|---|---|---|---|---|\n",
       "| 001 | 0   | 0   | 0   | 0   | 0.5 | 0   | \n",
       "| 002 | 0   | 0   | 0   | 0   | 0.5 | 0   | \n",
       "| 003 | 0   | 0   | 0   | 0   | 0.5 | 0   | \n",
       "| 004 | 0   | 0   | 0   | 1   | 0.5 | 0   | \n",
       "| 005 | 0   | 0   | 0   | 1   | 0.5 | 0   | \n",
       "| 006 | 1   | 1   | 1   | 1   | 0.5 | 1   | \n",
       "| 007 | 1   | 1   | 1   | 0   | 0.5 | 1   | \n",
       "| 008 | 0   | 0   | 0   | 0   | 0.5 | 0   | \n",
       "| 009 | 0   | 0   | 0   | 0   | 0.5 | 0   | \n",
       "| 010 | 0   | 0   | 0   | 1   | 0.5 | 0   | \n",
       "| 011 | 0   | 0   | 0   | 1   | 0.5 | 0   | \n",
       "| 012 | 0   | 0   | 0   | 0   | 0.5 | 0   | \n",
       "| 013 | 0   | 0   | 0   | 0   | 0.5 | 0   | \n",
       "| 014 | 0   | 0   | 0   | 1   | 0.5 | 0   | \n",
       "| 015 | 0   | 0   | 0   | 0   | 0.5 | 0   | \n",
       "| 016 | 0   | 0   | 0   | 0   | 0.5 | 0   | \n",
       "| 017 | 1   | 1   | 1   | 0   | 0.5 | 1   | \n",
       "| 018 | 0   | 0   | 0   | 1   | 0.5 | 0   | \n",
       "| 019 | 0   | 0   | 0   | 0   | 0.5 | 0   | \n",
       "| 020 | 0   | 0   | 0   | 1   | 0.5 | 0   | \n",
       "\n",
       "\n"
      ],
      "text/plain": [
       "   ID  return.participate Y_Z_0 Y_Z_1 Z Z_cond_prob Y\n",
       "1  001 0                  0     0     0 0.5         0\n",
       "2  002 0                  0     0     0 0.5         0\n",
       "3  003 0                  0     0     0 0.5         0\n",
       "4  004 0                  0     0     1 0.5         0\n",
       "5  005 0                  0     0     1 0.5         0\n",
       "6  006 1                  1     1     1 0.5         1\n",
       "7  007 1                  1     1     0 0.5         1\n",
       "8  008 0                  0     0     0 0.5         0\n",
       "9  009 0                  0     0     0 0.5         0\n",
       "10 010 0                  0     0     1 0.5         0\n",
       "11 011 0                  0     0     1 0.5         0\n",
       "12 012 0                  0     0     0 0.5         0\n",
       "13 013 0                  0     0     0 0.5         0\n",
       "14 014 0                  0     0     1 0.5         0\n",
       "15 015 0                  0     0     0 0.5         0\n",
       "16 016 0                  0     0     0 0.5         0\n",
       "17 017 1                  1     1     0 0.5         1\n",
       "18 018 0                  0     0     1 0.5         0\n",
       "19 019 0                  0     0     0 0.5         0\n",
       "20 020 0                  0     0     1 0.5         0"
      ]
     },
     "metadata": {},
     "output_type": "display_data"
    }
   ],
   "source": [
    "reveal <- declare_reveal(outcome_variables = Y) # here we use the prefix before the Z part begins, in our case this is simply Y\n",
    "\n",
    "df1 <- reveal(df1)\n",
    "\n",
    "df1[1:20,]"
   ]
  },
  {
   "cell_type": "code",
   "execution_count": 110,
   "metadata": {},
   "outputs": [],
   "source": [
    "estimand <- declare_estimand(ATE = mean(Y_Z_1 - Y_Z_0))"
   ]
  },
  {
   "cell_type": "code",
   "execution_count": 116,
   "metadata": {},
   "outputs": [],
   "source": [
    "estimated_effect <- declare_estimator(\n",
    "  Y ~ Z,\n",
    "  model = lm_robust,\n",
    "  estimand = c(\"ATE\"), # also just `estimand` (the object we defined above) would work\n",
    "  #subset = R == 1, # only keep people not lost to attrition\n",
    "  label = \"Treatment Effect\"\n",
    ")"
   ]
  },
  {
   "cell_type": "code",
   "execution_count": 117,
   "metadata": {},
   "outputs": [],
   "source": [
    "design <- population  + \n",
    "              potential_outcomes + \n",
    "              estimand + \n",
    "              assignment + \n",
    "              reveal + \n",
    "              estimated_effect "
   ]
  },
  {
   "cell_type": "code",
   "execution_count": 118,
   "metadata": {},
   "outputs": [],
   "source": [
    "diagnose.experiment  <- function( n.size, cdf, sims.count = 500, bootstrap.sims.count = 500){\n",
    "    design <- population +\n",
    "              potential_outcomes +       + \n",
    "              estimand + \n",
    "              assignment + \n",
    "              reveal + \n",
    "              estimated_effect \n",
    "    \n",
    "    diagnosis <- diagnose_design(design, sims = sims.count, \n",
    "                                 bootstrap_sims = bootstrap.sims.count)\n",
    "    diagnosis\n",
    "}"
   ]
  },
  {
   "cell_type": "code",
   "execution_count": 119,
   "metadata": {},
   "outputs": [],
   "source": [
    "# i'm pretty sure this is where i go off the rails\n",
    "pa.config <- data.frame(\n",
    "    pa.label = \"wla.experiment\",\n",
    "    n.max = 6000,\n",
    "    n.min = 1000,\n",
    "    \n",
    "    part.current <- mean.part,\n",
    "    part.treat  <- mean.part + 0.035\n",
    "    \n",
    ")"
   ]
  },
  {
   "cell_type": "code",
   "execution_count": 81,
   "metadata": {},
   "outputs": [],
   "source": [
    "source.path <- \"~/CivilServant-Wikipedia-Analysis/power-analysis\"\n",
    "source(file.path(source.path, \"power-analysis-utils.R\"))"
   ]
  },
  {
   "cell_type": "code",
   "execution_count": null,
   "metadata": {},
   "outputs": [],
   "source": [
    "interval = 1000\n",
    "power.iterate.df <- iterate.for.power(pa.config, \n",
    "                                      diagnosis.method=diagnose.experiment, \n",
    "                                      iteration.interval = interval)"
   ]
  },
  {
   "cell_type": "code",
   "execution_count": 83,
   "metadata": {},
   "outputs": [
    {
     "name": "stderr",
     "output_type": "stream",
     "text": [
      "Warning message:\n",
      "“Removed 6 rows containing missing values (geom_path).”Warning message:\n",
      "“Removed 6 rows containing missing values (geom_point).”"
     ]
    },
    {
     "data": {},
     "metadata": {},
     "output_type": "display_data"
    },
    {
     "data": {
      "image/png": "[encoded data removed]",
      "text/plain": [
       "plot without title"
      ]
     },
     "metadata": {},
     "output_type": "display_data"
    }
   ],
   "source": [
    "ggplot(power.iterate.df, aes(n, power, color=estimator_label)) +\n",
    "    ## CHART SUBSTANCE\n",
    "    geom_line() +\n",
    "    geom_point() +\n",
    "    ## LABELS AND COSMETICS\n",
    "    geom_hline(yintercept=0.8, size=0.25) +\n",
    "    theme_bw(base_size = 12, base_family = \"Helvetica\") +\n",
    "    theme(axis.text.x = element_text(angle=45, hjust = 1)) +\n",
    "    scale_y_continuous(breaks = seq(0,1,0.1), limits = c(0,1), labels=scales::percent) +\n",
    "    scale_x_continuous(breaks = seq(pa.config$n.min,pa.config$n.max,interval)) +\n",
    "    scale_color_viridis(discrete=TRUE) +\n",
    "    xlab(\"sample size\") +\n",
    "    ggtitle(\"Statistical Power Associated with Estimators\")"
   ]
  },
  {
   "cell_type": "code",
   "execution_count": null,
   "metadata": {},
   "outputs": [],
   "source": []
  }
 ],
 "metadata": {
  "kernelspec": {
   "display_name": "R",
   "language": "R",
   "name": "ir"
  },
  "language_info": {
   "codemirror_mode": "r",
   "file_extension": ".r",
   "mimetype": "text/x-r-source",
   "name": "R",
   "pygments_lexer": "r",
   "version": "3.5.1"
  }
 },
 "nbformat": 4,
 "nbformat_minor": 2
}
